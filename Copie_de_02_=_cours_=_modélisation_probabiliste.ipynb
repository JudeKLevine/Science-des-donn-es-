{
  "nbformat": 4,
  "nbformat_minor": 0,
  "metadata": {
    "colab": {
      "provenance": []
    },
    "kernelspec": {
      "name": "python3",
      "display_name": "Python 3"
    }
  },
  "cells": [
    {
      "cell_type": "markdown",
      "metadata": {
        "id": "PssRDat3KfmI"
      },
      "source": [
        "# Modélisation probabiliste"
      ]
    },
    {
      "cell_type": "code",
      "metadata": {
        "id": "_utIcrPcxTq9"
      },
      "source": [
        "import numpy as np\n",
        "import matplotlib.pyplot as plt\n",
        "import scipy.stats as stats\n",
        "\n",
        "np.set_printoptions(precision=2,suppress=True)"
      ],
      "execution_count": 1,
      "outputs": []
    },
    {
      "cell_type": "markdown",
      "metadata": {
        "id": "AzOKD29tKW7N"
      },
      "source": [
        "## Les limites de la modélisation avec une fonction cible\n",
        "\n",
        "Nous présentons des exemples qui nous montrent les limitations des techniques d'apprentissage \"déterministe\" que l'on a vu précédemment."
      ]
    },
    {
      "cell_type": "markdown",
      "metadata": {
        "id": "aL2ODlhrKjwy"
      },
      "source": [
        "### Densité discrète ou continue\n",
        "\n"
      ]
    },
    {
      "cell_type": "markdown",
      "metadata": {
        "id": "XpUqmXreXZ4T"
      },
      "source": [
        "\n",
        "### Densité discrète ou continue\n",
        "\n",
        "La densité (ou vraisemblance) d'une variable    $Y$  est une fonction $L(y)$ qui vérifie :  \n",
        "     \n",
        "* Quand $Y\\in \\mathbb R^p$ est continue :\n",
        "$$\n",
        "\\forall \\phi \\qquad \\mathbf E[\\phi(Y)] = \\int_{\\mathbb R^p}  \\phi(y) L(y) \\, dy\n",
        "$$\n",
        "Que l'on peut aussi écrire\n",
        "$$\n",
        "\\mathbf P[Y\\in  dy] = L(y)\\,  dy\n",
        "$$\n",
        "* Quand $Y\\in E$ est discret :\n",
        "$$\n",
        "\\forall \\phi \\qquad  \\mathbf E[\\phi(Y)] = \\sum_{y\\in E}  \\phi(y) L(y)   \n",
        "$$\n",
        "Que l'on peut aussi écrire\n",
        "$$\n",
        "\\mathbf P[Y = y] = L(y)\n",
        "$$\n",
        "     \n"
      ]
    },
    {
      "cell_type": "markdown",
      "metadata": {
        "id": "E70EFGZnXsn-"
      },
      "source": [
        "\n",
        "### Variation sur le bruit\n",
        "\n",
        "Considérons ces deux jeux de données. Les $X_i$ étant en abscisse, et les $Y_i$ en ordonnées.\n",
        "\n",
        "\n",
        "\n",
        "<img src=\"https://github.com/vincentvigon/public/blob/main/data/petitSigma.png?raw=true\" width=400><img src=\"https://github.com/vincentvigon/public/blob/main/data/grandSigma.png?raw=true\" width=400>\n",
        "\n",
        "\n",
        "Dans les deux cas, il existe certainement un lien du type $Y=f^?(X)+Bruit$, et sans doute $f^?$ est une fonction affine. Ainsi, on choisit comme modèle :\n",
        "$$\n",
        "f_w(x) = w_0 + w_1 x\n",
        "$$\n",
        "Les techniques du cours précédent nous permettraient de trouver le meilleur couple $(\\hat w_0,\\hat w_1)$.   A vu d'œil, ce  couple serait le même pour deux jeux de données ci-dessus. Cependant, on voit qu'il y a une différence : le premier jeu de donnée est plus bruité que le second.  \n",
        "\n",
        "Il est souvent intéressant de mesurer la variance du bruit ; cela quantifie la qualité des observations.\n",
        "\n",
        "\n",
        "Pour cela, au lieu d'estimer un lien déterministe entre $X$ et $Y$,  on va  plutôt estimer la loi de $Y$ sachant $X=x$. Par exemple, on peut parier que :\n",
        "$$\n",
        "Y =   w_0 + w_1 X  +  \\sigma \\epsilon   \\qquad \\text{avec $\\epsilon  \\sim  \\mathcal N(0,1)$ et $\\sigma>0$}\n",
        "$$\n",
        "Autrement dit, la densité de $Y$ sachant $X=x$ est donnée par\n",
        "$$\n",
        "L_{w,\\sigma}(y|x) = G_{\\sigma}\\Big(y- w_0-w_1x \\Big)      \\qquad           \\text{avec }  G_\\sigma(y)=  \\frac 1 {\\sigma \\sqrt{2\\pi}}  e^{- \\frac {y^2} {2\\sigma^2}}\n",
        "$$\n",
        "Il reste à trouver les meilleurs $w$ et $\\sigma$. A suivre.\n",
        "\n",
        "\n"
      ]
    },
    {
      "cell_type": "markdown",
      "metadata": {
        "id": "X7YI96FFX7F-"
      },
      "source": [
        "\n",
        "### Variable caché\n",
        "\n",
        "Considérons  $(X,Y)$, avec $X$ surface d'un appartement et $Y$ prix d'un appartement.\n",
        "Nos observations sont les suivantes~:\n",
        "\n",
        "\n",
        "<img src=\"https://github.com/vincentvigon/public/blob/main/data/troisApparts.png?raw=true\" width=600>\n",
        "\n",
        "Question  :  Qu'est-ce qui pourrait expliquer de telles variations sur les prix ? L'appartenance à un quartier bien sûr !\n",
        "\n",
        "Pour de telles données, on ne peut pas imaginer de fonction $f^?$ telle que $Y=f^?(X) + Bruit$. On pourrait par contre imaginer une fonction telle que $Y=f^?(X,Q)+Bruit$ où $Q$ est  le quartier, mais on ne nous nous a pas donnée $Q$ (on parle de variable cachée).\n",
        "\n",
        "\n",
        "Donc avec les données dont on dispose, peut modéliser $Y$ ainsi :  \n",
        "$$\n",
        "Y =\n",
        "\\begin{cases}\n",
        "w_{0}^0 +w_1^0 X + \\sigma \\epsilon \\qquad &\\text{avec proba } \\frac 1 3\\\\\n",
        "w_{0}^1 +w_1^1 X + \\sigma \\epsilon \\qquad &\\text{avec proba } \\frac 1 3\\\\\n",
        "w_{0}^2 +w_1^2 X + \\sigma \\epsilon \\qquad &\\text{avec proba } \\frac 1 3\n",
        "\\end{cases}\n",
        "$$\n",
        "Ainsi la densité de $Y$ sachant $X=x$ serait :\n",
        "$$\n",
        "L_{w,\\sigma}(y|x) =  \\frac 1 3   G_{\\sigma} ( y - w_0^0 - w_1^0 x   )  +   \\frac 1 3   G_{\\sigma} ( y - w_0^1 - w_1^1 x   )   +  \\frac 1 3   G_{\\sigma} ( y - w_0^2 - w_1^2 x   )    \n",
        "$$\n",
        "Les paramètre inconnus sont ici $\\sigma$et la matrice $w$ de taille $[2,3]$.\n",
        "\n",
        "Remarques : puisqu'on ne nous a pas fournis une variable visiblement très importante (le quartier des appartements), on a mis cette variable cachée en paramètre inconnu (c'est l'exposant dans le tenseur $w$). On demande à l'algorithme d'optimisation de faire au mieux avec ces inconnues supplémentaires : le meilleur couple de paramétre sera appelé $\\hat w,\\hat\\sigma$, et la densité estimée sera $\\hat L = L_{\\hat w,\\hat\\sigma}$.\n",
        "\n",
        "\n",
        "Bien entendu, on pourrait augmenter la flexibilité du modèle en supposons que le nombre d'appartements par quartier n'est pas le même, ou en supposant que le bruit par quartier n'est pas le même.  Mais il faut que cela soit vraiment nécessaire, car lorsqu'on a trop d'inconnue ...\n",
        "\n",
        "\n"
      ]
    },
    {
      "cell_type": "markdown",
      "metadata": {
        "id": "sl11MhTHYGxF"
      },
      "source": [
        "\n",
        "### Et si on veut quand même faire de la prédiction\n",
        "\n",
        "Ainsi, notre nouvel objectif est de trouver un $\\hat L(y|x)$ qui décrive au mieux la loi de $Y$ sachant $X=x$.\n",
        "Ensuite, on peut poser $\\hat f(x) = \\text{argmax}_y \\hat L(y|x) $.   \n",
        "\n",
        "Cette technique  repose  sur l'hypothèse que l'endroit le plus probable d'apparition d'une v.a., c'est l'argmax de sa densité. Mais ce n'est pas vrai en général :\n",
        "\n",
        "<img src=\"https://github.com/vincentvigon/public/blob/main/data/maximumDensite.png?raw=true\" width=400>\n",
        "\n",
        "\n",
        "Heureusement, dans la nature, les densités ont des formes bien plus sages (ex: des gaussiennes).\n",
        "\n",
        "\n",
        "Autre manière d'estimer: on peut  prendre l'espérance:\n",
        "$$\n",
        "\\hat f(x) = \\int y \\, \\hat L(y|x)\n",
        "$$\n",
        "\n",
        "\n"
      ]
    },
    {
      "cell_type": "markdown",
      "metadata": {
        "id": "9EQi2OXrYMv5"
      },
      "source": [
        "\n",
        "## Distance cross-entropique\n",
        "\n",
        "\n",
        "### Trouver la meilleure densité via une distance\n",
        "\n",
        "\n",
        "Notre problème est donc de trouver une densité conditionnelle  ou vraisemblance   $\\hat L(y|x)$ qui représente au mieux la distribution de $Y$ sachant $X=x$. On va rechercher cette densité dans une famille paramétrique  $\\mathcal L=\\{L_\\theta : \\theta \\in \\Theta \\}$.\n",
        "\n",
        "Pour trouver le meilleur élément de cette famille on peut prendre:\n",
        "$$\n",
        "\\hat \\theta =  \\text{argmin} _{\\theta\\in \\Theta}    \\sum_{Train}  \\text{dist} \\Big( y_i,L_\\theta ( \\cdot | x_i  )     \\Big )\n",
        "$$\n",
        "puis $\\hat L = L_{\\hat \\theta}$.\n",
        "\n",
        "\n",
        "Attention :    $\\text{dist}$ est une distance entre une densité  $L$ et une observation $y_i$. La distance sera petite quand la densité charge beaucoup l'observation.\n",
        "\n",
        "\n",
        "La distance la plus connue, pour le cas discret et continu est\n",
        "$$\n",
        "\\text{dist}   \\Big(  L  ,   y    \\Big ) =H   \\Big(    y ,  L   \\Big )   = - \\ln L(y)\n",
        "$$\n",
        "\n",
        "\n",
        "\n",
        "\n"
      ]
    },
    {
      "cell_type": "code",
      "metadata": {
        "colab": {
          "base_uri": "https://localhost:8080/",
          "height": 318
        },
        "id": "owFESdetxQFB",
        "cellView": "form",
        "outputId": "2bce118c-799d-4093-a1e7-3f2e412c99ea"
      },
      "source": [
        "#@title Cross Entropie\n",
        "a=0.15\n",
        "b=0.6\n",
        "x=np.linspace(0.1,1,100)\n",
        "L=lambda x : stats.beta.pdf(x,3,2)\n",
        "_log_L=lambda x:-np.log(L(x))\n",
        "plt.plot(x,L(x),label=\"L\")\n",
        "plt.plot(x,_log_L(x),label=\"-log(L)\")\n",
        "plt.plot([a,a],[0,_log_L(a)],\"k\")\n",
        "plt.plot([b,b],[0,_log_L(b)],\"k\")\n",
        "plt.plot(x,np.zeros_like(x),\"k\")\n",
        "ep=0.01\n",
        "plt.text(a+ep, 3*ep, \"a\", fontsize=12)\n",
        "plt.text(b+ep, 3*ep, \"b\", fontsize=12)\n",
        "plt.legend();"
      ],
      "execution_count": null,
      "outputs": [
        {
          "output_type": "stream",
          "name": "stderr",
          "text": [
            "/usr/local/lib/python3.7/dist-packages/ipykernel_launcher.py:6: RuntimeWarning: divide by zero encountered in log\n",
            "  \n"
          ]
        },
        {
          "output_type": "display_data",
          "data": {
            "image/png": "[encoded data removed]",
            "text/plain": [
              "<Figure size 432x288 with 1 Axes>"
            ]
          },
          "metadata": {
            "needs_background": "light"
          }
        }
      ]
    },
    {
      "cell_type": "markdown",
      "metadata": {
        "id": "dCWzK3oK0pk5"
      },
      "source": [
        "ci-dessus:\n",
        "* $H(a,L)$ est grande: la densité $L$ est \"éloignée\" de $\\delta_a$.\n",
        "* $H(b,L)$ est petite (et même négative): la densité $L$ est \"proche\" de $\\delta_b$."
      ]
    },
    {
      "cell_type": "markdown",
      "metadata": {
        "id": "d7Q4DSiYYcHv"
      },
      "source": [
        "\n",
        "### Cas discret\n",
        "\n",
        "\n",
        "Dans le cas discret, quand $p$ et $q$ sont des probas, on écrit  généralement\n",
        "$$\n",
        "H  ( p,q ) =  -  \\sum_v   p(v)   \\ln q (v)\n",
        "$$\n",
        "Ainsi en notant $\\delta_y$ la Dirac en $y$:\n",
        "$$\n",
        "H  (  y , L  ) =     H (  \\delta_y,  L  )=  - \\sum_v \\delta_y(v)   \\ln L(v)  =-\\log L(y)  \n",
        "$$\n",
        "Attention, il y a deux notions proches: la divergence de Kullback–Leibler:\n",
        "$$\n",
        "D_{KL} ( p || q )  =  - \\sum_v    p (v) \\ln \\frac{q(v)}{p(v)}  \n",
        "$$\n",
        "et l'entropie:\n",
        "$$\n",
        "H(p) = - \\sum_v   p(v)  \\ln p (v)\n",
        "$$\n",
        "qui sont reliés par\n",
        "$$\n",
        "H(p,q) = H(p) + D_{KL} ( p || q )\n",
        "$$\n",
        "\n",
        "\n"
      ]
    },
    {
      "cell_type": "markdown",
      "metadata": {
        "id": "KdS0ZgiEYkhd"
      },
      "source": [
        "\n",
        "### Construire $\\hat L$ par maximum de vraisemblance\n",
        "\n",
        "L'indépendance des observations, nous indique que la densité d'un échantillon $(Y_1,...,Y_n)$  sachant  $X_1=x_1,...,X_n=x_n$ est :\n",
        "$$\n",
        " (y_1,...,y_n) \\to  \\prod_{Train}  L_{\\theta} (y_i | x_i)\n",
        "$$\n",
        "Ainsi, quand  on observe $Train= [(y_1,x_1), ...,(y_n,x_n)] $, le paramètre $\\theta$ qui rend ces observations les plus vraisemblables est  :\n",
        "$$\n",
        "\\hat \\theta = \\text{argmax}_{\\theta \\in \\Theta}   \\prod_{Train}  L_{\\theta} (y_i | x_i)\n",
        "$$\n",
        " On doit estimer l'argmax d'un produit.   Comme on préfère les sommes, on passe le tout au logarithme. C'est une fonction croissante, donc :\n",
        "$$\n",
        "\\hat \\theta = \\text{argmax}_{\\theta \\in \\Theta}   \\sum_{ Train}   \\ln L_{\\theta} (y_i | x_i)\n",
        "$$\n",
        "En mettant un signe moins devant :\n",
        "$$\n",
        "\\hat \\theta = \\text{argmin} _{\\theta \\in \\Theta}   \\sum_{Train}    - \\ln L_{\\theta} (y_i | x_i) =\\text{argmin} _{\\theta \\in \\Theta}   \\sum_{ Train} H \\big(y_i ,   L_{\\theta} ( \\cdot  | x_i)      \\big)\n",
        "$$\n",
        "Conclusion: maximiser la vraissemblance ou minimiser la distance cross-entropique, c'est idem.\n",
        "\n",
        "\n"
      ]
    },
    {
      "cell_type": "markdown",
      "metadata": {
        "id": "970O66XlYuuT"
      },
      "source": [
        "\n",
        "### Exercice\n",
        "\n",
        "Considérez le modèle linéaire gaussien avec le paramètre $\\sigma =1$ :\n",
        "$$\n",
        "L_{w}(y|x) = G\\Big(y- w_0-w_1x \\Big)      \\qquad           \\text{avec }  G(y)=  \\frac 1 {\\sqrt{2\\pi}}  e^{- \\frac {y^2} {2}}\n",
        "$$\n",
        "Ecrire le problème de minimisation donné par le maximum de vraissemblance. Que constatez-vous ?\n",
        "\n",
        "\n",
        "Plus dur: Refaites le même exo quand $\\sigma$est inconnu :\n",
        "$$\n",
        "L_{w,\\sigma}(y|x) = G_\\sigma\\Big(y- w_0-w_1x \\Big)      \\qquad           \\text{avec }  G_\\sigma(y)=  \\frac 1 {\\sigma \\sqrt{2\\pi}}  e^{- \\frac {y^2} {2\\sigma^2}}\n",
        "$$\n",
        "Le problème de minimisation obtenu admet une solution explicite $(\\hat w, \\hat \\sigma)$, que l'on calcule en cherchant le lieu où la différentielle s'annule. Pour $\\hat w$, on tombe sur l'estimateur déjà vu, pour $\\hat \\sigma$on tombe sur une formule naturelle qui est implémentée dans la classe du TP.  Si on n'aime pas calculer la différentielle, on peut aussi demander un algo d'optimisation de  trouver $(\\hat w, \\hat \\sigma)$.\n",
        "\n"
      ]
    },
    {
      "cell_type": "markdown",
      "metadata": {
        "id": "IxA1mxI2ZBAp"
      },
      "source": [
        "## Classification\n"
      ]
    },
    {
      "cell_type": "markdown",
      "metadata": {
        "id": "jZs_TjlJZDqm"
      },
      "source": [
        "\n",
        "### Construction générique\n",
        "\n",
        "On se spécialise maintenant dans le cas où l'output $Y$ est qualitatif. Pour simplifier, on appellera les classes $\\{1,2,....,k\\}$.\n",
        "\n",
        "Une densité  $L$ sur $\\{1,2,....,k\\}$ est assimilée au vecteur $[L(1),...,L(k)] \\in \\mathbb R^k$, vecteur positif dont la somme fait 1.\n",
        "\n",
        "\n",
        "On considère  les variables explicatives $X=(X^1,...,X^p)$.  \n",
        "\n",
        "\n",
        "Définissons la fonction softmax:\n",
        "$$\n",
        " \\Big ( \\mathtt{SM}     (  V)  \\Big)_y    =   \\frac{ e^{V_y} }{\\sum_u e^{V_u}}\n",
        "$$\n",
        "qui transforme tout vecteur $V$ en un vecteur de probabilité.\n",
        "\n",
        "\n",
        "Pour construire un modèle paramètrique, commence par se donner une famille de fonction $f_\\theta$ de $\\mathbb R^p$ dans $\\mathbb R^k$.  Puis, on définit:\n",
        "$$\n",
        "L_\\theta (y  | x) =  \\Big(\\mathtt{SM} \\circ f_\\theta (x) \\Big)_y\n",
        "$$\n",
        "La quasi-totalité des modèles de classification sont de la forme ci-dessus\n",
        "\n",
        "\n",
        "Exo: caculer numériquement\n",
        "$$\n",
        "\\mathtt{SM}(1,-3,10,1)\n",
        "$$\n",
        "\n",
        "Vocabulaire: le résultat du modèle avant le softmax: $f_\\theta (x)$ est souvent appelé les \"logits\".\n",
        "\n"
      ]
    },
    {
      "cell_type": "code",
      "metadata": {
        "id": "_DH8BFXshtpe"
      },
      "source": [
        "import numpy as np\n",
        "#@title Solution:\n",
        "show=False #@param {type:\"boolean\"}\n",
        "if show:\n",
        "    V=[1,-3,10,1]\n",
        "    print(np.exp(V)/np.sum(np.exp(V)))"
      ],
      "execution_count": null,
      "outputs": []
    },
    {
      "cell_type": "markdown",
      "metadata": {
        "id": "9KbC9uqQZK3J"
      },
      "source": [
        "\n",
        "### Régression logistique (ou softmax)\n",
        "\n",
        "C'est le modèle de classification le plus simple:  le paramètre est $\\theta= (w,b)$ avec $w$ une matrice $p\\times k$ et $b$ un vecteur de taille $k$ et on choisit:\n",
        "$$\n",
        "f_{w,b}(x) = x \\cdot w  + b  \n",
        "$$\n",
        "puis\n",
        "$$\n",
        "L_{w,b} (y  | x) =  \\Big(\\mathtt{SM} \\circ f_{w,b} (x) \\Big)_y\n",
        "$$\n",
        "\n"
      ]
    },
    {
      "cell_type": "markdown",
      "metadata": {
        "id": "zuyA8CEVZOC3"
      },
      "source": [
        "\n",
        "### Ex: Réseau de neurone\n",
        "\n",
        "Donnons un exemple de réseau de neurone classificateur dense (=fully-connected) à 2 couches (=1 couche d'entrée, 1 couche cachée, 1 couche de sortie).\n",
        "\n",
        "\n",
        "On se donne une fonction non linéaire $\\ell$, par exemple\n",
        "     \n",
        "* $\\ell(x)=x 1_{x>0}$ la fonction relu.\n",
        "* $\\ell(x)=\\tanh(x)$\n",
        "* $\\ell(x)= \\frac{1}{1+e^{-x}}$ la sigmoïde.\n",
        "     \n",
        "\n",
        "Si $V$ est un vecteur, on note $\\ell(V)$ l'application de $\\ell$ à toutes les composantes de $V$.\n",
        "\n",
        "On prend comme paramètre  $\\theta= (w,b,w',b')$ composé de deux matrices et de vecteurs. Puis on choisit\n",
        "$$\n",
        "f_{\\theta}(x) =       \\ell (x \\cdot w   + b)\\cdot w' +b'\n",
        "$$\n",
        "puis\n",
        "$$\n",
        "L_{\\theta} (y  | x) =  \\Big(\\mathtt{SM} \\circ f_{\\theta} (x) \\Big)_y\n",
        "$$\n",
        "DESSIN\n",
        "\n",
        "\n",
        "***A vous:*** Et maintenant le réseau suivant a combien de couche?\n",
        "$$\n",
        "f_{\\theta}(x) =   \\ell \\Big(   \\ell (x \\cdot w   + b)\\cdot w' +b' \\Big)\\cdot w'' +b''\n",
        "$$\n",
        "puis\n",
        "$$\n",
        "L_{\\theta} (y  | x) =  \\Big(\\mathtt{SM} \\circ f_{\\theta} (x) \\Big)_y\n",
        "$$\n"
      ]
    },
    {
      "cell_type": "markdown",
      "metadata": {
        "id": "jyplnQq-E93s"
      },
      "source": [
        "Voici une implémentation du réseau à une couche.\n",
        "\n",
        "***À vous:*** Implémenter le réseau plus complexe. Pour les dimensions qui ne sont pas précisées, choisissez!"
      ]
    },
    {
      "cell_type": "code",
      "metadata": {
        "colab": {
          "base_uri": "https://localhost:8080/"
        },
        "id": "9vbK4L47C7QS",
        "outputId": "2310a196-acb8-4d2d-9ed6-7cda04901985"
      },
      "source": [
        "import numpy as np\n",
        "p=5\n",
        "k=2\n",
        "w=np.random.normal(size=[p,k])\n",
        "b=np.ones(shape=[k])\n",
        "ell=np.tanh\n",
        "\n",
        "def f_theta(x):\n",
        "    return ell(x@w+b)\n",
        "\n",
        "x=np.ones([p])\n",
        "f_theta(x)"
      ],
      "execution_count": null,
      "outputs": [
        {
          "output_type": "execute_result",
          "data": {
            "text/plain": [
              "array([0.62709948, 0.93831214])"
            ]
          },
          "metadata": {},
          "execution_count": 1
        }
      ]
    },
    {
      "cell_type": "markdown",
      "metadata": {
        "id": "yiO4j_OlZRJ2"
      },
      "source": [
        "\n",
        "### Classifier\n",
        "\n",
        "\n",
        "Ça y est: vous avez trouvé une bonne vraisemblance $L_{\\hat w}$ pour décrire vos données.  \n",
        "\n",
        "Maintenant, on vous donne une nouvelle entrée $x_o$. Pour prédire la sortie correspondante, le plus naturel, c'est de prendre la classe qui a la plus grande probabilité:\n",
        "$$\n",
        "y_o = \\text{argmax}_y  L_{\\hat w}(y|x_o)\n",
        "$$\n",
        "\n",
        "\n",
        "Cependant, toutes les classes n'ont pas la même importance. Imaginons que nous cherchons à repérer des malades en vue de les soigner.  La classe $1$ (ou positif)  étant \"Malade\", et la classe $0$ (ou négatif) étant \"sain\".  Supposons que  \n",
        "$$\n",
        "L_{\\hat w}( \\cdot | x_o)= [ 0.52 , 0.48    ]\n",
        "$$\n",
        "Dans ce cas-là, il vaut  peut-être mieux classer le sujet \"malade\" pour le soigner par précaution.\n",
        "\n",
        "\n",
        "En classification binaire (2 classes),  on a inventé de  nombreux outils pour choisir le bon seuil de probabilité: courbe ROC, score AUC, score F1.\n",
        "\n",
        "En classification multi-classe, on analyse surtout la matrice de confusion.\n",
        "\n",
        "On verra tout cela dans les T.P.\n",
        "\n",
        "\n"
      ]
    },
    {
      "cell_type": "markdown",
      "metadata": {
        "id": "dcqZqdL4ZXZx"
      },
      "source": [
        "\n",
        "### Exo\n",
        "\n",
        "\n",
        "Dans cette partie, nous nous plaçons dans le cas le plus simple où il y a deux descripteurs $p=2$ et deux classes $k=2$. On considère un modèle logistique  que l'on a entrainée avec des données $Train$.  On a obtenu des paramètres $(\\hat w,\\hat b)$ optimaux.\n",
        "\n",
        "On choisit ensuite de classifier un individu par la méthode la plus simple:\n",
        "$$\n",
        "\\hat y_o=1    \\Leftrightarrow L_{\\hat w}(1  | x_o) > L_{\\hat w}(0  | x_o) \\Leftrightarrow L_{\\hat w}(1  | x_o) >0.5\n",
        "$$\n",
        "À quoi ressemble la frontière de décision, c.à-d. la limite entre les $x\\in \\mathbb R^2$ dont la classe prédite est 0 et ceux dont la classe prédite est 1.\n",
        "\n",
        "Même question si maintenant $k=3$.\n",
        "\n",
        "\n"
      ]
    },
    {
      "cell_type": "markdown",
      "metadata": {
        "id": "vhW2RqG0TFZU"
      },
      "source": [
        "### Correction\n",
        "\n",
        "$$\n",
        "L(\\cdot |x) = \\mathtt{SM}(x\\cdot w + b )\n",
        "$$\n",
        "Donc\n",
        "$$\n",
        "L(0 |x) = e^{(x\\cdot w + b )_0} /cst\n",
        "$$\n",
        "$$\n",
        "L(1 |x) = e^{(x\\cdot w + b )_1} /cst\n",
        "$$\n",
        "Donc\n",
        "$$\n",
        "L(0 |x)>L(1 |x) \\Leftrightarrow (x\\cdot w + b )_0>(x\\cdot w + b )_1\n",
        "$$\n",
        "Les applications:\n",
        "\\begin{align}\n",
        "\\mathbb R^2 &\\to \\mathbb R\\\\\n",
        "x &\\mapsto \\mathbb (x\\cdot w + b )_0\\\\\n",
        "x &\\mapsto \\mathbb (x\\cdot w + b )_1\\\\\n",
        "\\end{align}\n",
        "se représente par des plans. Le lieu des $x$ où la première domine la seconde est donc un demi-espace dont la frontière est une droite.\n",
        "\n",
        "\n",
        "Si on a 3 classes possibles, on a donc la concurence entre 3 plans\n",
        "\\begin{align}\n",
        "\\mathbb R^2 &\\to \\mathbb R\\\\\n",
        "x &\\mapsto \\mathbb (x\\cdot w + b )_0\\\\\n",
        "x &\\mapsto \\mathbb (x\\cdot w + b )_1\\\\\n",
        "x &\\mapsto \\mathbb (x\\cdot w + b )_2\\\\\n",
        "\\end{align}\n",
        "Le lieu des $x$ où la première domine est donc typiquement un secteur angulaire (sauf cas très particulier).\n",
        "\n",
        "Quand on a plus de classe, les zones de domination peuvent devnir plus complexe, mais la frontière de décision est toujours constituée de segments de droite.\n",
        "\n",
        "\n",
        "\n"
      ]
    }
  ]
}