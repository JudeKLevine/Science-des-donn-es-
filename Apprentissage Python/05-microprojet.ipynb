{
 "cells": [
  {
   "cell_type": "markdown",
   "metadata": {
    "slideshow": {
     "slide_type": "slide"
    }
   },
   "source": [
    "# Microprojet\n",
    "\n",
    "![](fig/python-logo.png)\n",
    "\n",
    "- Utiliser les modules de la bibliothèque standard pour récupérer des données via un service web.\n",
    "- Manipuler les dictionnaires et les chaînes de caractères\n",
    "- Utiliser la bibliothèque de tracés graphiques matplotlib\n",
    "- Utiliser un IDE (Spyder)\n",
    "- Exécuter un fichier script\n",
    "- Gérer les arguments de la ligne de commande"
   ]
  },
  {
   "cell_type": "markdown",
   "metadata": {
    "slideshow": {
     "slide_type": "slide"
    }
   },
   "source": [
    "## Exercice\n",
    "\n",
    "Exploiter les données du site [http://www.prevision-meteo.ch](http://www.prevision-meteo.ch) pour tracer l'évolution horaire de la température à Strasbourg aujourd'hui.\n",
    "\n",
    " ![](fig/icon.png)"
   ]
  },
  {
   "cell_type": "markdown",
   "metadata": {
    "slideshow": {
     "slide_type": "subslide"
    }
   },
   "source": [
    "### Ouverture du fichier de prévisions\n",
    "\n",
    "Le site [https://www.prevision-meteo.ch](https://www.prevision-meteo.ch) fournit des prévisions sous forme de fichier au format [json](https://fr.wikipedia.org/wiki/JavaScript_Object_Notation). On veut récupérer les données relatives à Strasbourg avec la méthode `urlopen()` du module `urllib.request`."
   ]
  },
  {
   "cell_type": "code",
   "execution_count": 1,
   "metadata": {},
   "outputs": [],
   "source": [
    "%config InlineBackend.figure_format = 'retina'\n",
    "%matplotlib inline\n",
    "from urllib.request import urlopen\n",
    "\n",
    "jsonfile_url = \"https://www.prevision-meteo.ch/services/json/Strasbourg\"\n",
    "try:\n",
    "    f = urlopen(jsonfile_url, timeout=10)  # open url\n",
    "except Exception:\n",
    "    print(\"Le téléchargement a échoué : on lit une version locale.\")\n",
    "    f = open(\"exos/Strasbourg.json\")"
   ]
  },
  {
   "cell_type": "markdown",
   "metadata": {
    "slideshow": {
     "slide_type": "subslide"
    }
   },
   "source": [
    "### Chargement du fichier json ouvert"
   ]
  },
  {
   "cell_type": "markdown",
   "metadata": {},
   "source": [
    "La méthode `json.loads()` permet de charger un fichier json comme un dictionnaire python :"
   ]
  },
  {
   "cell_type": "code",
   "execution_count": 2,
   "metadata": {},
   "outputs": [],
   "source": [
    "import json\n",
    "jsondict = json.loads(f.read())  # Read JSON file"
   ]
  },
  {
   "cell_type": "markdown",
   "metadata": {
    "slideshow": {
     "slide_type": "subslide"
    }
   },
   "source": [
    "### Exploration des données\n",
    "\n",
    "On commence naïvement par afficher le contenu du fichier :"
   ]
  },
  {
   "cell_type": "code",
   "execution_count": 3,
   "metadata": {},
   "outputs": [
    {
     "name": "stdout",
     "output_type": "stream",
     "text": [
      "<class 'dict'>\n",
      "{'city_info': {'name': 'Strasbourg', 'country': 'France', 'latitude': '48.5844421', 'longitude': '7.7558331', 'elevation': '144', 'sunrise': '07:39', 'sunset': '18:52'}, 'forecast_info': {'latitude': None, 'longitude': None, 'elevation': '136.9'}, 'current_condition': {'date': '10.10.2023', 'hour': '23:00', 'tmp': 18, 'wnd_spd': 6, 'wnd_gust': 0, 'wnd_dir': 'S', 'pressure': 1016.9, 'humidity': 51, 'condition': 'Nuit claire', 'condition_key': 'nuit-claire', 'icon': 'https://prevision-meteo.ch/style/images/icon/nuit-claire.png', 'icon_big': 'https://prevision-meteo.ch/style/images/icon/nuit-claire-big.png'}, 'fcst_day_0': {'date': '10.10.2023', 'day_short': 'Mar.', 'day_long': 'Mardi', 'tmin': 13, 'tmax': 28, 'condition': 'Ensoleillé', 'condition_key': 'ensoleille', 'icon': 'https://prevision-meteo.ch/style/images/icon/ensoleille.png', 'icon_big': 'https://prevision-meteo.ch/style/images/icon/ensoleille-big.png', 'hourly_data': {'0H00': {'ICON': 'https://prevision-meteo.ch/style/images/icon/nuit-nuageuse.png', 'CONDITION': 'Nuit nuageuse', 'CONDITION_KEY': 'nuit-nuageuse', 'TMP2m': 16, 'DPT2m': -273.2, 'WNDCHILL2m': None, 'HUMIDEX': None, 'RH2m': 55, 'PRMSL': 1019.7, 'APCPsfc': 0, 'WNDSPD10m': 4, 'WNDGUST10m': 0, 'WNDDIR10m': 239, 'WNDDIRCARD10': 'SO', 'ISSNOW': 0, 'HCDC': '0.00', 'MCDC': '0.00', 'LCDC': '0.00', 'HGT0C': 3700, 'KINDEX': 31, 'CAPE180_0': '0.000', 'CIN180_0': 0}, '1H00': {'ICON': 'https://prevision-meteo.ch/style/images/icon/nuit-nuageuse.png', 'CONDITION': 'Nuit nuageuse', 'CONDITION_KEY': 'nuit-nuageuse', 'TMP2m': 15.4, 'DPT2m': -273.2, 'WNDCHILL2m': None, 'HUMIDEX': None, 'RH2m': 56, 'PRMSL': 1019.4, 'APCPsfc': 0, 'WNDSPD10m': 1, 'WNDGUST10m': 0, 'WNDDIR10m': 270, 'WNDDIRCARD10': 'O', 'ISSNOW': 0, 'HCDC': '0.00', 'MCDC': '0.00', 'LCDC': '0.00', 'HGT0C': 3700, 'KINDEX': 32, 'CAPE180_0': '0.000', 'CIN180_0': 0}, '2H00': {'ICON': 'https://prevision-meteo.ch/style/images/icon/nuit-claire.png', 'CONDITION': 'Nuit claire', 'CONDITION_KEY': 'nuit-claire', 'TMP2m': 14.9, 'DPT2m': -273.2, 'WNDCHILL2m': None, 'HUMIDEX': None, 'RH2m': 58, 'PRMSL': 1019.3, 'APCPsfc': 0, 'WNDSPD10m': 3, 'WNDGUST10m': 0, 'WNDDIR10m': 166, 'WNDDIRCARD10': 'S', 'ISSNOW': 0, 'HCDC': '0.60', 'MCDC': '0.00', 'LCDC': '0.00', 'HGT0C': 3700, 'KINDEX': 33, 'CAPE180_0': '0.000', 'CIN180_0': 0}, '3H00': {'ICON': 'https://prevision-meteo.ch/style/images/icon/nuit-claire.png', 'CONDITION': 'Nuit claire', 'CONDITION_KEY': 'nuit-claire', 'TMP2m': 14.5, 'DPT2m': -273.2, 'WNDCHILL2m': None, 'HUMIDEX': None, 'RH2m': 59, 'PRMSL': 1019.2, 'APCPsfc': 0, 'WNDSPD10m': 2, 'WNDGUST10m': 0, 'WNDDIR10m': 243, 'WNDDIRCARD10': 'SO', 'ISSNOW': 0, 'HCDC': '2.60', 'MCDC': '0.00', 'LCDC': '0.00', 'HGT0C': 3700, 'KINDEX': 34, 'CAPE180_0': '0.000', 'CIN180_0': 0}, '4H00': {'ICON': 'https://prevision-meteo.ch/style/images/icon/nuit-claire.png', 'CONDITION': 'Nuit claire', 'CONDITION_KEY': 'nuit-claire', 'TMP2m': 13.9, 'DPT2m': -273.2, 'WNDCHILL2m': None, 'HUMIDEX': None, 'RH2m': 61, 'PRMSL': 1018.8, 'APCPsfc': 0, 'WNDSPD10m': 1, 'WNDGUST10m': 0, 'WNDDIR10m': 207, 'WNDDIRCARD10': 'SO', 'ISSNOW': 0, 'HCDC': '2.60', 'MCDC': '0.00', 'LCDC': '0.00', 'HGT0C': 3700, 'KINDEX': 35, 'CAPE180_0': '0.000', 'CIN180_0': 0}, '5H00': {'ICON': 'https://prevision-meteo.ch/style/images/icon/nuit-claire.png', 'CONDITION': 'Nuit claire', 'CONDITION_KEY': 'nuit-claire', 'TMP2m': 13.7, 'DPT2m': -273.2, 'WNDCHILL2m': None, 'HUMIDEX': None, 'RH2m': 61, 'PRMSL': 1019, 'APCPsfc': 0, 'WNDSPD10m': 3, 'WNDGUST10m': 0, 'WNDDIR10m': 164, 'WNDDIRCARD10': 'S', 'ISSNOW': 0, 'HCDC': '0.00', 'MCDC': '0.00', 'LCDC': '0.00', 'HGT0C': 3800, 'KINDEX': 37, 'CAPE180_0': '0.000', 'CIN180_0': 0}, '6H00': {'ICON': 'https://prevision-meteo.ch/style/images/icon/nuit-claire.png', 'CONDITION': 'Nuit claire', 'CONDITION_KEY': 'nuit-claire', 'TMP2m': 13.3, 'DPT2m': -273.2, 'WNDCHILL2m': None, 'HUMIDEX': None, 'RH2m': 62, 'PRMSL': 1019.3, 'APCPsfc': 0, 'WNDSPD10m': 1, 'WNDGUST10m': 0, 'WNDDIR10m': 180, 'WNDDIRCARD10': 'S', 'ISSNOW': 0, 'HCDC': '1.90', 'MCDC': '0.00', 'LCDC': '0.00', 'HGT0C': 3800, 'KINDEX': 38, 'CAPE180_0': '0.000', 'CIN180_0': 0}, '7H00': {'ICON': 'https://prevision-meteo.ch/style/images/icon/nuit-claire.png', 'CONDITION': 'Nuit claire', 'CONDITION_KEY': 'nuit-claire', 'TMP2m': 13, 'DPT2m': -273.2, 'WNDCHILL2m': None, 'HUMIDEX': None, 'RH2m': 63, 'PRMSL': 1018.9, 'APCPsfc': 0, 'WNDSPD10m': 2, 'WNDGUST10m': 0, 'WNDDIR10m': 219, 'WNDDIRCARD10': 'SO', 'ISSNOW': 0, 'HCDC': '2.00', 'MCDC': '0.00', 'LCDC': '0.00', 'HGT0C': 3800, 'KINDEX': 37, 'CAPE180_0': '0.000', 'CIN180_0': 0}, '8H00': {'ICON': 'https://prevision-meteo.ch/style/images/icon/ensoleille.png', 'CONDITION': 'Ensoleillé', 'CONDITION_KEY': 'ensoleille', 'TMP2m': 13, 'DPT2m': -273.2, 'WNDCHILL2m': None, 'HUMIDEX': None, 'RH2m': 62, 'PRMSL': 1019.1, 'APCPsfc': 0, 'WNDSPD10m': 1, 'WNDGUST10m': 0, 'WNDDIR10m': 297, 'WNDDIRCARD10': 'NO', 'ISSNOW': 0, 'HCDC': '3.40', 'MCDC': '0.00', 'LCDC': '0.00', 'HGT0C': 3800, 'KINDEX': 35, 'CAPE180_0': '0.000', 'CIN180_0': 0}, '9H00': {'ICON': 'https://prevision-meteo.ch/style/images/icon/ensoleille.png', 'CONDITION': 'Ensoleillé', 'CONDITION_KEY': 'ensoleille', 'TMP2m': 15.2, 'DPT2m': -273.2, 'WNDCHILL2m': None, 'HUMIDEX': None, 'RH2m': 60, 'PRMSL': 1019, 'APCPsfc': 0, 'WNDSPD10m': 5, 'WNDGUST10m': 0, 'WNDDIR10m': 212, 'WNDDIRCARD10': 'SO', 'ISSNOW': 0, 'HCDC': '4.90', 'MCDC': '0.00', 'LCDC': '0.00', 'HGT0C': 3800, 'KINDEX': 35, 'CAPE180_0': '0.000', 'CIN180_0': 0}, '10H00': {'ICON': 'https://prevision-meteo.ch/style/images/icon/ensoleille.png', 'CONDITION': 'Ensoleillé', 'CONDITION_KEY': 'ensoleille', 'TMP2m': 16.6, 'DPT2m': -273.2, 'WNDCHILL2m': None, 'HUMIDEX': None, 'RH2m': 55, 'PRMSL': 1019.7, 'APCPsfc': 0, 'WNDSPD10m': 6, 'WNDGUST10m': 0, 'WNDDIR10m': 196, 'WNDDIRCARD10': 'S', 'ISSNOW': 0, 'HCDC': '0.40', 'MCDC': '0.00', 'LCDC': '0.00', 'HGT0C': 3800, 'KINDEX': 36, 'CAPE180_0': '0.000', 'CIN180_0': 0}, '11H00': {'ICON': 'https://prevision-meteo.ch/style/images/icon/ensoleille.png', 'CONDITION': 'Ensoleillé', 'CONDITION_KEY': 'ensoleille', 'TMP2m': 18.5, 'DPT2m': -273.2, 'WNDCHILL2m': None, 'HUMIDEX': None, 'RH2m': 50, 'PRMSL': 1019.2, 'APCPsfc': 0, 'WNDSPD10m': 6, 'WNDGUST10m': 0, 'WNDDIR10m': 169, 'WNDDIRCARD10': 'S', 'ISSNOW': 0, 'HCDC': '0.00', 'MCDC': '0.00', 'LCDC': '0.00', 'HGT0C': 3900, 'KINDEX': 37, 'CAPE180_0': '0.000', 'CIN180_0': 0}, '12H00': {'ICON': 'https://prevision-meteo.ch/style/images/icon/ensoleille.png', 'CONDITION': 'Ensoleillé', 'CONDITION_KEY': 'ensoleille', 'TMP2m': 21, 'DPT2m': -273.2, 'WNDCHILL2m': None, 'HUMIDEX': 21.4, 'RH2m': 43, 'PRMSL': 1018.8, 'APCPsfc': 0, 'WNDSPD10m': 4, 'WNDGUST10m': 0, 'WNDDIR10m': 169, 'WNDDIRCARD10': 'S', 'ISSNOW': 0, 'HCDC': '0.00', 'MCDC': '0.00', 'LCDC': '0.00', 'HGT0C': 3900, 'KINDEX': 36, 'CAPE180_0': '0.000', 'CIN180_0': 0}, '13H00': {'ICON': 'https://prevision-meteo.ch/style/images/icon/ensoleille.png', 'CONDITION': 'Ensoleillé', 'CONDITION_KEY': 'ensoleille', 'TMP2m': 23, 'DPT2m': -273.2, 'WNDCHILL2m': None, 'HUMIDEX': 23.2, 'RH2m': 37, 'PRMSL': 1018.1, 'APCPsfc': 0, 'WNDSPD10m': 4, 'WNDGUST10m': 0, 'WNDDIR10m': 214, 'WNDDIRCARD10': 'SO', 'ISSNOW': 0, 'HCDC': '0.00', 'MCDC': '0.00', 'LCDC': '0.00', 'HGT0C': 3900, 'KINDEX': 35, 'CAPE180_0': '0.000', 'CIN180_0': 0}, '14H00': {'ICON': 'https://prevision-meteo.ch/style/images/icon/ensoleille.png', 'CONDITION': 'Ensoleillé', 'CONDITION_KEY': 'ensoleille', 'TMP2m': 24.5, 'DPT2m': -273.2, 'WNDCHILL2m': None, 'HUMIDEX': 24.4, 'RH2m': 32, 'PRMSL': 1017.7, 'APCPsfc': 0, 'WNDSPD10m': 5, 'WNDGUST10m': 0, 'WNDDIR10m': 219, 'WNDDIRCARD10': 'SO', 'ISSNOW': 0, 'HCDC': '0.00', 'MCDC': '0.00', 'LCDC': '0.00', 'HGT0C': 3900, 'KINDEX': 35, 'CAPE180_0': '0.000', 'CIN180_0': 0}, '15H00': {'ICON': 'https://prevision-meteo.ch/style/images/icon/ensoleille.png', 'CONDITION': 'Ensoleillé', 'CONDITION_KEY': 'ensoleille', 'TMP2m': 25.8, 'DPT2m': -273.2, 'WNDCHILL2m': None, 'HUMIDEX': 25.6, 'RH2m': 29, 'PRMSL': 1017.1, 'APCPsfc': 0, 'WNDSPD10m': 6, 'WNDGUST10m': 0, 'WNDDIR10m': 239, 'WNDDIRCARD10': 'SO', 'ISSNOW': 0, 'HCDC': '0.00', 'MCDC': '0.00', 'LCDC': '0.00', 'HGT0C': 3900, 'KINDEX': 35, 'CAPE180_0': '0.000', 'CIN180_0': 0}, '16H00': {'ICON': 'https://prevision-meteo.ch/style/images/icon/ensoleille.png', 'CONDITION': 'Ensoleillé', 'CONDITION_KEY': 'ensoleille', 'TMP2m': 26.6, 'DPT2m': -273.2, 'WNDCHILL2m': None, 'HUMIDEX': 26.3, 'RH2m': 27, 'PRMSL': 1016.7, 'APCPsfc': 0, 'WNDSPD10m': 5, 'WNDGUST10m': 0, 'WNDDIR10m': 258, 'WNDDIRCARD10': 'O', 'ISSNOW': 0, 'HCDC': '0.00', 'MCDC': '0.00', 'LCDC': '0.00', 'HGT0C': 3900, 'KINDEX': 35, 'CAPE180_0': '0.000', 'CIN180_0': 0}, '17H00': {'ICON': 'https://prevision-meteo.ch/style/images/icon/ensoleille.png', 'CONDITION': 'Ensoleillé', 'CONDITION_KEY': 'ensoleille', 'TMP2m': 26.7, 'DPT2m': -273.2, 'WNDCHILL2m': None, 'HUMIDEX': 26.2, 'RH2m': 26, 'PRMSL': 1016.4, 'APCPsfc': 0, 'WNDSPD10m': 5, 'WNDGUST10m': 0, 'WNDDIR10m': 286, 'WNDDIRCARD10': 'O', 'ISSNOW': 0, 'HCDC': '0.00', 'MCDC': '0.00', 'LCDC': '0.00', 'HGT0C': 3900, 'KINDEX': 37, 'CAPE180_0': '0.000', 'CIN180_0': 0}, '18H00': {'ICON': 'https://prevision-meteo.ch/style/images/icon/ensoleille.png', 'CONDITION': 'Ensoleillé', 'CONDITION_KEY': 'ensoleille', 'TMP2m': 25.8, 'DPT2m': -273.2, 'WNDCHILL2m': None, 'HUMIDEX': 25.6, 'RH2m': 29, 'PRMSL': 1016.2, 'APCPsfc': 0, 'WNDSPD10m': 2, 'WNDGUST10m': 0, 'WNDDIR10m': 279, 'WNDDIRCARD10': 'O', 'ISSNOW': 0, 'HCDC': '0.00', 'MCDC': '0.00', 'LCDC': '0.00', 'HGT0C': 3900, 'KINDEX': 38, 'CAPE180_0': '0.000', 'CIN180_0': 0}, '19H00': {'ICON': 'https://prevision-meteo.ch/style/images/icon/nuit-claire.png', 'CONDITION': 'Nuit claire', 'CONDITION_KEY': 'nuit-claire', 'TMP2m': 24, 'DPT2m': -273.2, 'WNDCHILL2m': None, 'HUMIDEX': 24.1, 'RH2m': 34, 'PRMSL': 1016.2, 'APCPsfc': 0, 'WNDSPD10m': 5, 'WNDGUST10m': 0, 'WNDDIR10m': 172, 'WNDDIRCARD10': 'S', 'ISSNOW': 0, 'HCDC': '0.00', 'MCDC': '0.00', 'LCDC': '0.00', 'HGT0C': 4000, 'KINDEX': 39, 'CAPE180_0': '0.000', 'CIN180_0': 0}, '20H00': {'ICON': 'https://prevision-meteo.ch/style/images/icon/nuit-claire.png', 'CONDITION': 'Nuit claire', 'CONDITION_KEY': 'nuit-claire', 'TMP2m': 21.5, 'DPT2m': -273.2, 'WNDCHILL2m': None, 'HUMIDEX': 21.9, 'RH2m': 42, 'PRMSL': 1016.4, 'APCPsfc': 0, 'WNDSPD10m': 8, 'WNDGUST10m': 0, 'WNDDIR10m': 167, 'WNDDIRCARD10': 'S', 'ISSNOW': 0, 'HCDC': '0.00', 'MCDC': '0.00', 'LCDC': '0.00', 'HGT0C': 4000, 'KINDEX': 41, 'CAPE180_0': '0.000', 'CIN180_0': 0}, '21H00': {'ICON': 'https://prevision-meteo.ch/style/images/icon/nuit-claire.png', 'CONDITION': 'Nuit claire', 'CONDITION_KEY': 'nuit-claire', 'TMP2m': 19.8, 'DPT2m': -273.2, 'WNDCHILL2m': None, 'HUMIDEX': None, 'RH2m': 47, 'PRMSL': 1016.9, 'APCPsfc': 0, 'WNDSPD10m': 8, 'WNDGUST10m': 0, 'WNDDIR10m': 185, 'WNDDIRCARD10': 'S', 'ISSNOW': 0, 'HCDC': '0.00', 'MCDC': '0.00', 'LCDC': '0.00', 'HGT0C': 4000, 'KINDEX': 42, 'CAPE180_0': '0.000', 'CIN180_0': 0}, '22H00': {'ICON': 'https://prevision-meteo.ch/style/images/icon/nuit-claire.png', 'CONDITION': 'Nuit claire', 'CONDITION_KEY': 'nuit-claire', 'TMP2m': 18.6, 'DPT2m': -273.2, 'WNDCHILL2m': None, 'HUMIDEX': None, 'RH2m': 50, 'PRMSL': 1017.1, 'APCPsfc': 0, 'WNDSPD10m': 7, 'WNDGUST10m': 0, 'WNDDIR10m': 202, 'WNDDIRCARD10': 'S', 'ISSNOW': 0, 'HCDC': '0.00', 'MCDC': '0.00', 'LCDC': '0.00', 'HGT0C': 4000, 'KINDEX': 41, 'CAPE180_0': '0.000', 'CIN180_0': 0}, '23H00': {'ICON': 'https://prevision-meteo.ch/style/images/icon/nuit-claire.png', 'CONDITION': 'Nuit claire', 'CONDITION_KEY': 'nuit-claire', 'TMP2m': 18.1, 'DPT2m': -273.2, 'WNDCHILL2m': None, 'HUMIDEX': None, 'RH2m': 51, 'PRMSL': 1016.9, 'APCPsfc': 0, 'WNDSPD10m': 6, 'WNDGUST10m': 0, 'WNDDIR10m': 196, 'WNDDIRCARD10': 'S', 'ISSNOW': 0, 'HCDC': '0.00', 'MCDC': '0.00', 'LCDC': '0.00', 'HGT0C': 4000, 'KINDEX': 41, 'CAPE180_0': '0.000', 'CIN180_0': 0}}}, 'fcst_day_1': {'date': '11.10.2023', 'day_short': 'Mer.', 'day_long': 'Mercredi', 'tmin': 15, 'tmax': 31, 'condition': 'Ensoleillé', 'condition_key': 'ensoleille', 'icon': 'https://prevision-meteo.ch/style/images/icon/ensoleille.png', 'icon_big': 'https://prevision-meteo.ch/style/images/icon/ensoleille-big.png', 'hourly_data': {'0H00': {'ICON': 'https://prevision-meteo.ch/style/images/icon/nuit-claire.png', 'CONDITION': 'Nuit claire', 'CONDITION_KEY': 'nuit-claire', 'TMP2m': 17.6, 'DPT2m': -273.2, 'WNDCHILL2m': None, 'HUMIDEX': None, 'RH2m': 51, 'PRMSL': 1016.8, 'APCPsfc': 0, 'WNDSPD10m': 7, 'WNDGUST10m': 0, 'WNDDIR10m': 183, 'WNDDIRCARD10': 'S', 'ISSNOW': 0, 'HCDC': '0.00', 'MCDC': '0.00', 'LCDC': '0.00', 'HGT0C': 4000, 'KINDEX': 41, 'CAPE180_0': '0.000', 'CIN180_0': 0}, '1H00': {'ICON': 'https://prevision-meteo.ch/style/images/icon/nuit-claire.png', 'CONDITION': 'Nuit claire', 'CONDITION_KEY': 'nuit-claire', 'TMP2m': 16.7, 'DPT2m': -273.2, 'WNDCHILL2m': None, 'HUMIDEX': None, 'RH2m': 52, 'PRMSL': 1016.8, 'APCPsfc': 0, 'WNDSPD10m': 8, 'WNDGUST10m': 0, 'WNDDIR10m': 185, 'WNDDIRCARD10': 'S', 'ISSNOW': 0, 'HCDC': '0.00', 'MCDC': '0.00', 'LCDC': '0.00', 'HGT0C': 4000, 'KINDEX': 40, 'CAPE180_0': '0.000', 'CIN180_0': 0}, '2H00': {'ICON': 'https://prevision-meteo.ch/style/images/icon/nuit-claire.png', 'CONDITION': 'Nuit claire', 'CONDITION_KEY': 'nuit-claire', 'TMP2m': 16.2, 'DPT2m': -273.2, 'WNDCHILL2m': None, 'HUMIDEX': None, 'RH2m': 54, 'PRMSL': 1016.5, 'APCPsfc': 0, 'WNDSPD10m': 8, 'WNDGUST10m': 0, 'WNDDIR10m': 178, 'WNDDIRCARD10': 'S', 'ISSNOW': 0, 'HCDC': '0.00', 'MCDC': '0.00', 'LCDC': '0.00', 'HGT0C': 4000, 'KINDEX': 40, 'CAPE180_0': '0.000', 'CIN180_0': 0}, '3H00': {'ICON': 'https://prevision-meteo.ch/style/images/icon/nuit-claire.png', 'CONDITION': 'Nuit claire', 'CONDITION_KEY': 'nuit-claire', 'TMP2m': 15.7, 'DPT2m': -273.2, 'WNDCHILL2m': None, 'HUMIDEX': None, 'RH2m': 55, 'PRMSL': 1016.5, 'APCPsfc': 0, 'WNDSPD10m': 9, 'WNDGUST10m': 0, 'WNDDIR10m': 178, 'WNDDIRCARD10': 'S', 'ISSNOW': 0, 'HCDC': '0.00', 'MCDC': '0.00', 'LCDC': '0.00', 'HGT0C': 4000, 'KINDEX': 41, 'CAPE180_0': '0.000', 'CIN180_0': 0}, '4H00': {'ICON': 'https://prevision-meteo.ch/style/images/icon/nuit-claire.png', 'CONDITION': 'Nuit claire', 'CONDITION_KEY': 'nuit-claire', 'TMP2m': 15.4, 'DPT2m': -273.2, 'WNDCHILL2m': None, 'HUMIDEX': None, 'RH2m': 55, 'PRMSL': 1016.2, 'APCPsfc': 0, 'WNDSPD10m': 9, 'WNDGUST10m': 0, 'WNDDIR10m': 176, 'WNDDIRCARD10': 'S', 'ISSNOW': 0, 'HCDC': '0.00', 'MCDC': '0.00', 'LCDC': '0.00', 'HGT0C': 4000, 'KINDEX': 41, 'CAPE180_0': '0.000', 'CIN180_0': 0}, '5H00': {'ICON': 'https://prevision-meteo.ch/style/images/icon/nuit-claire.png', 'CONDITION': 'Nuit claire', 'CONDITION_KEY': 'nuit-claire', 'TMP2m': 15.2, 'DPT2m': -273.2, 'WNDCHILL2m': None, 'HUMIDEX': None, 'RH2m': 55, 'PRMSL': 1016.2, 'APCPsfc': 0, 'WNDSPD10m': 9, 'WNDGUST10m': 0, 'WNDDIR10m': 176, 'WNDDIRCARD10': 'S', 'ISSNOW': 0, 'HCDC': '0.00', 'MCDC': '0.00', 'LCDC': '0.00', 'HGT0C': 4000, 'KINDEX': 41, 'CAPE180_0': '0.000', 'CIN180_0': 0}, '6H00': {'ICON': 'https://prevision-meteo.ch/style/images/icon/nuit-claire.png', 'CONDITION': 'Nuit claire', 'CONDITION_KEY': 'nuit-claire', 'TMP2m': 15, 'DPT2m': -273.2, 'WNDCHILL2m': None, 'HUMIDEX': None, 'RH2m': 54, 'PRMSL': 1016.1, 'APCPsfc': 0, 'WNDSPD10m': 11, 'WNDGUST10m': 0, 'WNDDIR10m': 172, 'WNDDIRCARD10': 'S', 'ISSNOW': 0, 'HCDC': '0.00', 'MCDC': '0.00', 'LCDC': '0.00', 'HGT0C': 3900, 'KINDEX': 41, 'CAPE180_0': '0.000', 'CIN180_0': 0}, '7H00': {'ICON': 'https://prevision-meteo.ch/style/images/icon/nuit-claire.png', 'CONDITION': 'Nuit claire', 'CONDITION_KEY': 'nuit-claire', 'TMP2m': 14.8, 'DPT2m': -273.2, 'WNDCHILL2m': None, 'HUMIDEX': None, 'RH2m': 54, 'PRMSL': 1015.9, 'APCPsfc': 0, 'WNDSPD10m': 12, 'WNDGUST10m': 0, 'WNDDIR10m': 180, 'WNDDIRCARD10': 'S', 'ISSNOW': 0, 'HCDC': '0.50', 'MCDC': '0.00', 'LCDC': '0.00', 'HGT0C': 3900, 'KINDEX': 42, 'CAPE180_0': '0.000', 'CIN180_0': 0}, '8H00': {'ICON': 'https://prevision-meteo.ch/style/images/icon/ensoleille.png', 'CONDITION': 'Ensoleillé', 'CONDITION_KEY': 'ensoleille', 'TMP2m': 14.6, 'DPT2m': -273.2, 'WNDCHILL2m': None, 'HUMIDEX': None, 'RH2m': 54, 'PRMSL': 1016.5, 'APCPsfc': 0, 'WNDSPD10m': 11, 'WNDGUST10m': 0, 'WNDDIR10m': 184, 'WNDDIRCARD10': 'S', 'ISSNOW': 0, 'HCDC': '1.20', 'MCDC': '0.00', 'LCDC': '0.00', 'HGT0C': 3900, 'KINDEX': 42, 'CAPE180_0': '0.000', 'CIN180_0': 0}, '9H00': {'ICON': 'https://prevision-meteo.ch/style/images/icon/ensoleille.png', 'CONDITION': 'Ensoleillé', 'CONDITION_KEY': 'ensoleille', 'TMP2m': 16.1, 'DPT2m': -273.2, 'WNDCHILL2m': None, 'HUMIDEX': None, 'RH2m': 50, 'PRMSL': 1016.6, 'APCPsfc': 0, 'WNDSPD10m': 11, 'WNDGUST10m': 0, 'WNDDIR10m': 189, 'WNDDIRCARD10': 'S', 'ISSNOW': 0, 'HCDC': '0.00', 'MCDC': '0.00', 'LCDC': '0.00', 'HGT0C': 3800, 'KINDEX': 41, 'CAPE180_0': '0.000', 'CIN180_0': 0}, '10H00': {'ICON': 'https://prevision-meteo.ch/style/images/icon/ensoleille.png', 'CONDITION': 'Ensoleillé', 'CONDITION_KEY': 'ensoleille', 'TMP2m': 19.2, 'DPT2m': -273.2, 'WNDCHILL2m': None, 'HUMIDEX': None, 'RH2m': 43, 'PRMSL': 1016.5, 'APCPsfc': 0, 'WNDSPD10m': 13, 'WNDGUST10m': 0, 'WNDDIR10m': 193, 'WNDDIRCARD10': 'S', 'ISSNOW': 0, 'HCDC': '0.00', 'MCDC': '0.00', 'LCDC': '0.00', 'HGT0C': 3900, 'KINDEX': 41, 'CAPE180_0': '0.000', 'CIN180_0': 0}, '11H00': {'ICON': 'https://prevision-meteo.ch/style/images/icon/ensoleille.png', 'CONDITION': 'Ensoleillé', 'CONDITION_KEY': 'ensoleille', 'TMP2m': 22.2, 'DPT2m': -273.2, 'WNDCHILL2m': None, 'HUMIDEX': 22.1, 'RH2m': 37, 'PRMSL': 1016.2, 'APCPsfc': 0, 'WNDSPD10m': 15, 'WNDGUST10m': 0, 'WNDDIR10m': 189, 'WNDDIRCARD10': 'S', 'ISSNOW': 0, 'HCDC': '0.00', 'MCDC': '0.00', 'LCDC': '0.00', 'HGT0C': 3800, 'KINDEX': 40, 'CAPE180_0': '0.000', 'CIN180_0': 0}, '12H00': {'ICON': 'https://prevision-meteo.ch/style/images/icon/ensoleille.png', 'CONDITION': 'Ensoleillé', 'CONDITION_KEY': 'ensoleille', 'TMP2m': 24.9, 'DPT2m': -273.2, 'WNDCHILL2m': None, 'HUMIDEX': 25.1, 'RH2m': 33, 'PRMSL': 1015.6, 'APCPsfc': 0, 'WNDSPD10m': 16, 'WNDGUST10m': 0, 'WNDDIR10m': 196, 'WNDDIRCARD10': 'S', 'ISSNOW': 0, 'HCDC': '1.20', 'MCDC': '0.00', 'LCDC': '0.00', 'HGT0C': 3800, 'KINDEX': 40, 'CAPE180_0': '0.000', 'CIN180_0': 0}, '13H00': {'ICON': 'https://prevision-meteo.ch/style/images/icon/ensoleille.png', 'CONDITION': 'Ensoleillé', 'CONDITION_KEY': 'ensoleille', 'TMP2m': 27, 'DPT2m': -273.2, 'WNDCHILL2m': None, 'HUMIDEX': 27.4, 'RH2m': 30, 'PRMSL': 1015.2, 'APCPsfc': 0, 'WNDSPD10m': 16, 'WNDGUST10m': 0, 'WNDDIR10m': 209, 'WNDDIRCARD10': 'SO', 'ISSNOW': 0, 'HCDC': '47.70', 'MCDC': '0.00', 'LCDC': '0.00', 'HGT0C': 3700, 'KINDEX': 43, 'CAPE180_0': '0.000', 'CIN180_0': 0}, '14H00': {'ICON': 'https://prevision-meteo.ch/style/images/icon/ensoleille.png', 'CONDITION': 'Ensoleillé', 'CONDITION_KEY': 'ensoleille', 'TMP2m': 28.3, 'DPT2m': -273.2, 'WNDCHILL2m': None, 'HUMIDEX': 28.3, 'RH2m': 26, 'PRMSL': 1014.8, 'APCPsfc': 0, 'WNDSPD10m': 16, 'WNDGUST10m': 0, 'WNDDIR10m': 238, 'WNDDIRCARD10': 'SO', 'ISSNOW': 0, 'HCDC': '29.30', 'MCDC': '0.00', 'LCDC': '0.00', 'HGT0C': 3700, 'KINDEX': 46, 'CAPE180_0': '0.000', 'CIN180_0': 0}, '15H00': {'ICON': 'https://prevision-meteo.ch/style/images/icon/ensoleille.png', 'CONDITION': 'Ensoleillé', 'CONDITION_KEY': 'ensoleille', 'TMP2m': 28.6, 'DPT2m': -273.2, 'WNDCHILL2m': None, 'HUMIDEX': 28.7, 'RH2m': 26, 'PRMSL': 1014.2, 'APCPsfc': 0, 'WNDSPD10m': 19, 'WNDGUST10m': 0, 'WNDDIR10m': 245, 'WNDDIRCARD10': 'SO', 'ISSNOW': 0, 'HCDC': '68.10', 'MCDC': '0.00', 'LCDC': '0.00', 'HGT0C': 3600, 'KINDEX': 47, 'CAPE180_0': '0.000', 'CIN180_0': 0}, '16H00': {'ICON': 'https://prevision-meteo.ch/style/images/icon/ensoleille.png', 'CONDITION': 'Ensoleillé', 'CONDITION_KEY': 'ensoleille', 'TMP2m': 28.2, 'DPT2m': -273.2, 'WNDCHILL2m': None, 'HUMIDEX': 28.2, 'RH2m': 26, 'PRMSL': 1013.8, 'APCPsfc': 0, 'WNDSPD10m': 20, 'WNDGUST10m': 0, 'WNDDIR10m': 246, 'WNDDIRCARD10': 'SO', 'ISSNOW': 0, 'HCDC': '10.30', 'MCDC': '0.00', 'LCDC': '0.00', 'HGT0C': 3700, 'KINDEX': 46, 'CAPE180_0': '0.000', 'CIN180_0': 0}, '17H00': {'ICON': 'https://prevision-meteo.ch/style/images/icon/ensoleille.png', 'CONDITION': 'Ensoleillé', 'CONDITION_KEY': 'ensoleille', 'TMP2m': 27.5, 'DPT2m': -273.2, 'WNDCHILL2m': None, 'HUMIDEX': 27.3, 'RH2m': 26, 'PRMSL': 1013.6, 'APCPsfc': 0, 'WNDSPD10m': 19, 'WNDGUST10m': 0, 'WNDDIR10m': 246, 'WNDDIRCARD10': 'SO', 'ISSNOW': 0, 'HCDC': '43.20', 'MCDC': '0.00', 'LCDC': '0.00', 'HGT0C': 3700, 'KINDEX': 44, 'CAPE180_0': '0.000', 'CIN180_0': 0}, '18H00': {'ICON': 'https://prevision-meteo.ch/style/images/icon/ensoleille.png', 'CONDITION': 'Ensoleillé', 'CONDITION_KEY': 'ensoleille', 'TMP2m': 26.1, 'DPT2m': -273.2, 'WNDCHILL2m': None, 'HUMIDEX': 26.4, 'RH2m': 31, 'PRMSL': 1013.9, 'APCPsfc': 0, 'WNDSPD10m': 16, 'WNDGUST10m': 0, 'WNDDIR10m': 248, 'WNDDIRCARD10': 'SO', 'ISSNOW': 0, 'HCDC': '13.10', 'MCDC': '0.00', 'LCDC': '0.00', 'HGT0C': 3700, 'KINDEX': 44, 'CAPE180_0': '0.000', 'CIN180_0': 0}, '19H00': {'ICON': 'https://prevision-meteo.ch/style/images/icon/nuit-claire.png', 'CONDITION': 'Nuit claire', 'CONDITION_KEY': 'nuit-claire', 'TMP2m': 23.8, 'DPT2m': -273.2, 'WNDCHILL2m': None, 'HUMIDEX': 24.6, 'RH2m': 39, 'PRMSL': 1014, 'APCPsfc': 0, 'WNDSPD10m': 12, 'WNDGUST10m': 0, 'WNDDIR10m': 224, 'WNDDIRCARD10': 'SO', 'ISSNOW': 0, 'HCDC': '19.30', 'MCDC': '0.00', 'LCDC': '0.00', 'HGT0C': 3600, 'KINDEX': 43, 'CAPE180_0': '0.000', 'CIN180_0': 0}, '20H00': {'ICON': 'https://prevision-meteo.ch/style/images/icon/nuit-legerement-voilee.png', 'CONDITION': 'Nuit légèrement voilée', 'CONDITION_KEY': 'nuit-legerement-voilee', 'TMP2m': 21.5, 'DPT2m': -273.2, 'WNDCHILL2m': None, 'HUMIDEX': 22.6, 'RH2m': 47, 'PRMSL': 1014.2, 'APCPsfc': 0, 'WNDSPD10m': 12, 'WNDGUST10m': 0, 'WNDDIR10m': 213, 'WNDDIRCARD10': 'SO', 'ISSNOW': 0, 'HCDC': '92.00', 'MCDC': '0.00', 'LCDC': '0.00', 'HGT0C': 3600, 'KINDEX': 41, 'CAPE180_0': '0.000', 'CIN180_0': 0}, '21H00': {'ICON': 'https://prevision-meteo.ch/style/images/icon/nuit-claire.png', 'CONDITION': 'Nuit claire', 'CONDITION_KEY': 'nuit-claire', 'TMP2m': 19.2, 'DPT2m': -273.2, 'WNDCHILL2m': None, 'HUMIDEX': None, 'RH2m': 55, 'PRMSL': 1014.3, 'APCPsfc': 0, 'WNDSPD10m': 11, 'WNDGUST10m': 0, 'WNDDIR10m': 207, 'WNDDIRCARD10': 'SO', 'ISSNOW': 0, 'HCDC': '59.10', 'MCDC': '0.00', 'LCDC': '0.00', 'HGT0C': 3600, 'KINDEX': 40, 'CAPE180_0': '0.000', 'CIN180_0': 0}, '22H00': {'ICON': 'https://prevision-meteo.ch/style/images/icon/nuit-legerement-voilee.png', 'CONDITION': 'Nuit légèrement voilée', 'CONDITION_KEY': 'nuit-legerement-voilee', 'TMP2m': 17.9, 'DPT2m': -273.2, 'WNDCHILL2m': None, 'HUMIDEX': None, 'RH2m': 60, 'PRMSL': 1014.3, 'APCPsfc': 0, 'WNDSPD10m': 11, 'WNDGUST10m': 0, 'WNDDIR10m': 197, 'WNDDIRCARD10': 'S', 'ISSNOW': 0, 'HCDC': '83.30', 'MCDC': '0.00', 'LCDC': '0.00', 'HGT0C': 3500, 'KINDEX': 37, 'CAPE180_0': '0.000', 'CIN180_0': 0}, '23H00': {'ICON': 'https://prevision-meteo.ch/style/images/icon/nuit-legerement-voilee.png', 'CONDITION': 'Nuit légèrement voilée', 'CONDITION_KEY': 'nuit-legerement-voilee', 'TMP2m': 17.1, 'DPT2m': -273.2, 'WNDCHILL2m': None, 'HUMIDEX': None, 'RH2m': 62, 'PRMSL': 1014.4, 'APCPsfc': 0, 'WNDSPD10m': 12, 'WNDGUST10m': 0, 'WNDDIR10m': 195, 'WNDDIRCARD10': 'S', 'ISSNOW': 0, 'HCDC': '100.00', 'MCDC': '0.00', 'LCDC': '0.00', 'HGT0C': 3500, 'KINDEX': 35, 'CAPE180_0': '0.000', 'CIN180_0': 0}}}, 'fcst_day_2': {'date': '12.10.2023', 'day_short': 'Jeu.', 'day_long': 'Jeudi', 'tmin': 16, 'tmax': 25, 'condition': 'Eclaircies', 'condition_key': 'eclaircies', 'icon': 'https://prevision-meteo.ch/style/images/icon/eclaircies.png', 'icon_big': 'https://prevision-meteo.ch/style/images/icon/eclaircies-big.png', 'hourly_data': {'0H00': {'ICON': 'https://prevision-meteo.ch/style/images/icon/nuit-nuageuse.png', 'CONDITION': 'Nuit nuageuse', 'CONDITION_KEY': 'nuit-nuageuse', 'TMP2m': 16.8, 'DPT2m': -273.2, 'WNDCHILL2m': None, 'HUMIDEX': None, 'RH2m': 63, 'PRMSL': 1014.6, 'APCPsfc': 0, 'WNDSPD10m': 14, 'WNDGUST10m': 0, 'WNDDIR10m': 192, 'WNDDIRCARD10': 'S', 'ISSNOW': 0, 'HCDC': '100.00', 'MCDC': '1.70', 'LCDC': '0.00', 'HGT0C': 3400, 'KINDEX': 35, 'CAPE180_0': '0.000', 'CIN180_0': 0}, '1H00': {'ICON': 'https://prevision-meteo.ch/style/images/icon/nuit-nuageuse.png', 'CONDITION': 'Nuit nuageuse', 'CONDITION_KEY': 'nuit-nuageuse', 'TMP2m': 16.5, 'DPT2m': -273.2, 'WNDCHILL2m': None, 'HUMIDEX': None, 'RH2m': 65, 'PRMSL': 1014.6, 'APCPsfc': 0, 'WNDSPD10m': 14, 'WNDGUST10m': 0, 'WNDDIR10m': 189, 'WNDDIRCARD10': 'S', 'ISSNOW': 0, 'HCDC': '94.90', 'MCDC': '83.90', 'LCDC': '0.00', 'HGT0C': 3400, 'KINDEX': 34, 'CAPE180_0': '0.000', 'CIN180_0': 0}, '2H00': {'ICON': 'https://prevision-meteo.ch/style/images/icon/nuit-nuageuse.png', 'CONDITION': 'Nuit nuageuse', 'CONDITION_KEY': 'nuit-nuageuse', 'TMP2m': 16.1, 'DPT2m': -273.2, 'WNDCHILL2m': None, 'HUMIDEX': None, 'RH2m': 65, 'PRMSL': 1014.5, 'APCPsfc': 0, 'WNDSPD10m': 15, 'WNDGUST10m': 0, 'WNDDIR10m': 191, 'WNDDIRCARD10': 'S', 'ISSNOW': 0, 'HCDC': '84.90', 'MCDC': '35.90', 'LCDC': '0.00', 'HGT0C': 3400, 'KINDEX': 34, 'CAPE180_0': '0.000', 'CIN180_0': 0}, '3H00': {'ICON': 'https://prevision-meteo.ch/style/images/icon/nuit-nuageuse.png', 'CONDITION': 'Nuit nuageuse', 'CONDITION_KEY': 'nuit-nuageuse', 'TMP2m': 15.9, 'DPT2m': -273.2, 'WNDCHILL2m': None, 'HUMIDEX': None, 'RH2m': 65, 'PRMSL': 1014.6, 'APCPsfc': 0, 'WNDSPD10m': 14, 'WNDGUST10m': 0, 'WNDDIR10m': 195, 'WNDDIRCARD10': 'S', 'ISSNOW': 0, 'HCDC': '45.70', 'MCDC': '67.60', 'LCDC': '0.00', 'HGT0C': 3300, 'KINDEX': 34, 'CAPE180_0': '0.000', 'CIN180_0': 0}, '4H00': {'ICON': 'https://prevision-meteo.ch/style/images/icon/nuit-nuageuse.png', 'CONDITION': 'Nuit nuageuse', 'CONDITION_KEY': 'nuit-nuageuse', 'TMP2m': 15.7, 'DPT2m': -273.2, 'WNDCHILL2m': None, 'HUMIDEX': None, 'RH2m': 66, 'PRMSL': 1014.6, 'APCPsfc': 0, 'WNDSPD10m': 15, 'WNDGUST10m': 0, 'WNDDIR10m': 193, 'WNDDIRCARD10': 'S', 'ISSNOW': 0, 'HCDC': '4.20', 'MCDC': '49.90', 'LCDC': '0.00', 'HGT0C': 3400, 'KINDEX': 35, 'CAPE180_0': '0.000', 'CIN180_0': 0}, '5H00': {'ICON': 'https://prevision-meteo.ch/style/images/icon/nuit-nuageuse.png', 'CONDITION': 'Nuit nuageuse', 'CONDITION_KEY': 'nuit-nuageuse', 'TMP2m': 15.6, 'DPT2m': -273.2, 'WNDCHILL2m': None, 'HUMIDEX': None, 'RH2m': 65, 'PRMSL': 1014.7, 'APCPsfc': 0, 'WNDSPD10m': 15, 'WNDGUST10m': 0, 'WNDDIR10m': 194, 'WNDDIRCARD10': 'S', 'ISSNOW': 0, 'HCDC': '34.10', 'MCDC': '61.00', 'LCDC': '0.00', 'HGT0C': 3400, 'KINDEX': 35, 'CAPE180_0': '0.000', 'CIN180_0': 0}, '6H00': {'ICON': 'https://prevision-meteo.ch/style/images/icon/nuit-nuageuse.png', 'CONDITION': 'Nuit nuageuse', 'CONDITION_KEY': 'nuit-nuageuse', 'TMP2m': 15.6, 'DPT2m': -273.2, 'WNDCHILL2m': None, 'HUMIDEX': None, 'RH2m': 64, 'PRMSL': 1014.5, 'APCPsfc': 0, 'WNDSPD10m': 15, 'WNDGUST10m': 0, 'WNDDIR10m': 191, 'WNDDIRCARD10': 'S', 'ISSNOW': 0, 'HCDC': '42.50', 'MCDC': '100.00', 'LCDC': '0.00', 'HGT0C': 3400, 'KINDEX': 33, 'CAPE180_0': '0.000', 'CIN180_0': 0}, '7H00': {'ICON': 'https://prevision-meteo.ch/style/images/icon/nuit-nuageuse.png', 'CONDITION': 'Nuit nuageuse', 'CONDITION_KEY': 'nuit-nuageuse', 'TMP2m': 15.7, 'DPT2m': -273.2, 'WNDCHILL2m': None, 'HUMIDEX': None, 'RH2m': 64, 'PRMSL': 1014.8, 'APCPsfc': 0, 'WNDSPD10m': 15, 'WNDGUST10m': 0, 'WNDDIR10m': 193, 'WNDDIRCARD10': 'S', 'ISSNOW': 0, 'HCDC': '35.70', 'MCDC': '100.00', 'LCDC': '0.00', 'HGT0C': 3400, 'KINDEX': 32, 'CAPE180_0': '0.000', 'CIN180_0': 0}, '8H00': {'ICON': 'https://prevision-meteo.ch/style/images/icon/fortement-nuageux.png', 'CONDITION': 'Fortement nuageux', 'CONDITION_KEY': 'fortement-nuageux', 'TMP2m': 15.9, 'DPT2m': -273.2, 'WNDCHILL2m': None, 'HUMIDEX': None, 'RH2m': 66, 'PRMSL': 1015.1, 'APCPsfc': 0, 'WNDSPD10m': 14, 'WNDGUST10m': 0, 'WNDDIR10m': 190, 'WNDDIRCARD10': 'S', 'ISSNOW': 0, 'HCDC': '80.80', 'MCDC': '99.90', 'LCDC': '0.00', 'HGT0C': 3300, 'KINDEX': 30, 'CAPE180_0': '0.000', 'CIN180_0': 0}, '9H00': {'ICON': 'https://prevision-meteo.ch/style/images/icon/eclaircies.png', 'CONDITION': 'Eclaircies', 'CONDITION_KEY': 'eclaircies', 'TMP2m': 16.8, 'DPT2m': -273.2, 'WNDCHILL2m': None, 'HUMIDEX': None, 'RH2m': 64, 'PRMSL': 1015.3, 'APCPsfc': 0, 'WNDSPD10m': 15, 'WNDGUST10m': 0, 'WNDDIR10m': 190, 'WNDDIRCARD10': 'S', 'ISSNOW': 0, 'HCDC': '30.20', 'MCDC': '45.00', 'LCDC': '0.00', 'HGT0C': 3300, 'KINDEX': 29, 'CAPE180_0': '0.000', 'CIN180_0': 0}, '10H00': {'ICON': 'https://prevision-meteo.ch/style/images/icon/ciel-voile.png', 'CONDITION': 'Ciel voilé', 'CONDITION_KEY': 'ciel-voile', 'TMP2m': 18.1, 'DPT2m': -273.2, 'WNDCHILL2m': None, 'HUMIDEX': None, 'RH2m': 60, 'PRMSL': 1015.8, 'APCPsfc': 0, 'WNDSPD10m': 15, 'WNDGUST10m': 0, 'WNDDIR10m': 197, 'WNDDIRCARD10': 'S', 'ISSNOW': 0, 'HCDC': '100.00', 'MCDC': '0.00', 'LCDC': '0.00', 'HGT0C': 3300, 'KINDEX': 28, 'CAPE180_0': '0.000', 'CIN180_0': 0}, '11H00': {'ICON': 'https://prevision-meteo.ch/style/images/icon/eclaircies.png', 'CONDITION': 'Eclaircies', 'CONDITION_KEY': 'eclaircies', 'TMP2m': 20.1, 'DPT2m': -273.2, 'WNDCHILL2m': None, 'HUMIDEX': 21.3, 'RH2m': 52, 'PRMSL': 1015.7, 'APCPsfc': 0, 'WNDSPD10m': 16, 'WNDGUST10m': 0, 'WNDDIR10m': 198, 'WNDDIRCARD10': 'S', 'ISSNOW': 0, 'HCDC': '39.70', 'MCDC': '0.00', 'LCDC': '0.00', 'HGT0C': 3300, 'KINDEX': 28, 'CAPE180_0': '0.000', 'CIN180_0': 0}, '12H00': {'ICON': 'https://prevision-meteo.ch/style/images/icon/fortement-nuageux.png', 'CONDITION': 'Fortement nuageux', 'CONDITION_KEY': 'fortement-nuageux', 'TMP2m': 21.6, 'DPT2m': -273.2, 'WNDCHILL2m': None, 'HUMIDEX': 22.8, 'RH2m': 47, 'PRMSL': 1015.3, 'APCPsfc': 0, 'WNDSPD10m': 17, 'WNDGUST10m': 0, 'WNDDIR10m': 200, 'WNDDIRCARD10': 'S', 'ISSNOW': 0, 'HCDC': '6.40', 'MCDC': '10.60', 'LCDC': '0.00', 'HGT0C': 3300, 'KINDEX': 27, 'CAPE180_0': '0.000', 'CIN180_0': 0}, '13H00': {'ICON': 'https://prevision-meteo.ch/style/images/icon/eclaircies.png', 'CONDITION': 'Eclaircies', 'CONDITION_KEY': 'eclaircies', 'TMP2m': 23.5, 'DPT2m': -273.2, 'WNDCHILL2m': None, 'HUMIDEX': 24.4, 'RH2m': 40, 'PRMSL': 1015.4, 'APCPsfc': 0, 'WNDSPD10m': 15, 'WNDGUST10m': 0, 'WNDDIR10m': 217, 'WNDDIRCARD10': 'SO', 'ISSNOW': 0, 'HCDC': '100.00', 'MCDC': '71.10', 'LCDC': '0.00', 'HGT0C': 3300, 'KINDEX': 26, 'CAPE180_0': '0.000', 'CIN180_0': 0}, '14H00': {'ICON': 'https://prevision-meteo.ch/style/images/icon/eclaircies.png', 'CONDITION': 'Eclaircies', 'CONDITION_KEY': 'eclaircies', 'TMP2m': 24.5, 'DPT2m': -273.2, 'WNDCHILL2m': None, 'HUMIDEX': 24.9, 'RH2m': 35, 'PRMSL': 1015.2, 'APCPsfc': 0, 'WNDSPD10m': 13, 'WNDGUST10m': 0, 'WNDDIR10m': 234, 'WNDDIRCARD10': 'SO', 'ISSNOW': 0, 'HCDC': '100.00', 'MCDC': '81.50', 'LCDC': '0.00', 'HGT0C': 3300, 'KINDEX': 29, 'CAPE180_0': '0.000', 'CIN180_0': 0}, '15H00': {'ICON': 'https://prevision-meteo.ch/style/images/icon/fortement-nuageux.png', 'CONDITION': 'Fortement nuageux', 'CONDITION_KEY': 'fortement-nuageux', 'TMP2m': 24.4, 'DPT2m': -273.2, 'WNDCHILL2m': None, 'HUMIDEX': 24.4, 'RH2m': 33, 'PRMSL': 1015.1, 'APCPsfc': 0, 'WNDSPD10m': 10, 'WNDGUST10m': 0, 'WNDDIR10m': 252, 'WNDDIRCARD10': 'O', 'ISSNOW': 0, 'HCDC': '60.00', 'MCDC': '34.10', 'LCDC': '0.00', 'HGT0C': 3400, 'KINDEX': 30, 'CAPE180_0': '1.000', 'CIN180_0': 0}, '16H00': {'ICON': 'https://prevision-meteo.ch/style/images/icon/eclaircies.png', 'CONDITION': 'Eclaircies', 'CONDITION_KEY': 'eclaircies', 'TMP2m': 24, 'DPT2m': -273.2, 'WNDCHILL2m': None, 'HUMIDEX': 24.2, 'RH2m': 35, 'PRMSL': 1014.8, 'APCPsfc': 0, 'WNDSPD10m': 7, 'WNDGUST10m': 0, 'WNDDIR10m': 215, 'WNDDIRCARD10': 'SO', 'ISSNOW': 0, 'HCDC': '7.40', 'MCDC': '100.00', 'LCDC': '0.00', 'HGT0C': 3400, 'KINDEX': 31, 'CAPE180_0': '0.000', 'CIN180_0': 0}, '17H00': {'ICON': 'https://prevision-meteo.ch/style/images/icon/fortement-nuageux.png', 'CONDITION': 'Fortement nuageux', 'CONDITION_KEY': 'fortement-nuageux', 'TMP2m': 23.6, 'DPT2m': -273.2, 'WNDCHILL2m': None, 'HUMIDEX': 23.9, 'RH2m': 36, 'PRMSL': 1014.6, 'APCPsfc': 0, 'WNDSPD10m': 7, 'WNDGUST10m': 0, 'WNDDIR10m': 195, 'WNDDIRCARD10': 'S', 'ISSNOW': 0, 'HCDC': '100.00', 'MCDC': '100.00', 'LCDC': '0.00', 'HGT0C': 3400, 'KINDEX': 30, 'CAPE180_0': '0.000', 'CIN180_0': 0}, '18H00': {'ICON': 'https://prevision-meteo.ch/style/images/icon/eclaircies.png', 'CONDITION': 'Eclaircies', 'CONDITION_KEY': 'eclaircies', 'TMP2m': 22.8, 'DPT2m': -273.2, 'WNDCHILL2m': None, 'HUMIDEX': 23.2, 'RH2m': 39, 'PRMSL': 1014.4, 'APCPsfc': 0, 'WNDSPD10m': 7, 'WNDGUST10m': 0, 'WNDDIR10m': 186, 'WNDDIRCARD10': 'S', 'ISSNOW': 0, 'HCDC': '100.00', 'MCDC': '99.90', 'LCDC': '0.00', 'HGT0C': 3300, 'KINDEX': 30, 'CAPE180_0': '0.000', 'CIN180_0': 0}, '19H00': {'ICON': 'https://prevision-meteo.ch/style/images/icon/nuit-nuageuse.png', 'CONDITION': 'Nuit nuageuse', 'CONDITION_KEY': 'nuit-nuageuse', 'TMP2m': 21.6, 'DPT2m': -273.2, 'WNDCHILL2m': None, 'HUMIDEX': 22.2, 'RH2m': 43, 'PRMSL': 1014.2, 'APCPsfc': 0, 'WNDSPD10m': 9, 'WNDGUST10m': 0, 'WNDDIR10m': 182, 'WNDDIRCARD10': 'S', 'ISSNOW': 0, 'HCDC': '90.30', 'MCDC': '91.60', 'LCDC': '0.00', 'HGT0C': 3400, 'KINDEX': 30, 'CAPE180_0': '0.000', 'CIN180_0': 0}, '20H00': {'ICON': 'https://prevision-meteo.ch/style/images/icon/nuit-nuageuse.png', 'CONDITION': 'Nuit nuageuse', 'CONDITION_KEY': 'nuit-nuageuse', 'TMP2m': 20.8, 'DPT2m': -273.2, 'WNDCHILL2m': None, 'HUMIDEX': 21.4, 'RH2m': 45, 'PRMSL': 1014.2, 'APCPsfc': 0, 'WNDSPD10m': 12, 'WNDGUST10m': 0, 'WNDDIR10m': 196, 'WNDDIRCARD10': 'S', 'ISSNOW': 0, 'HCDC': '4.60', 'MCDC': '8.80', 'LCDC': '0.00', 'HGT0C': 3400, 'KINDEX': 29, 'CAPE180_0': '0.000', 'CIN180_0': 0}, '21H00': {'ICON': 'https://prevision-meteo.ch/style/images/icon/nuit-nuageuse.png', 'CONDITION': 'Nuit nuageuse', 'CONDITION_KEY': 'nuit-nuageuse', 'TMP2m': 20.1, 'DPT2m': -273.2, 'WNDCHILL2m': None, 'HUMIDEX': 20.5, 'RH2m': 46, 'PRMSL': 1014.5, 'APCPsfc': 0, 'WNDSPD10m': 11, 'WNDGUST10m': 0, 'WNDDIR10m': 215, 'WNDDIRCARD10': 'SO', 'ISSNOW': 0, 'HCDC': '0.00', 'MCDC': '2.90', 'LCDC': '0.00', 'HGT0C': 3400, 'KINDEX': 28, 'CAPE180_0': '0.000', 'CIN180_0': 0}, '22H00': {'ICON': 'https://prevision-meteo.ch/style/images/icon/nuit-nuageuse.png', 'CONDITION': 'Nuit nuageuse', 'CONDITION_KEY': 'nuit-nuageuse', 'TMP2m': 19.2, 'DPT2m': -273.2, 'WNDCHILL2m': None, 'HUMIDEX': None, 'RH2m': 48, 'PRMSL': 1014.8, 'APCPsfc': 0, 'WNDSPD10m': 6, 'WNDGUST10m': 0, 'WNDDIR10m': 232, 'WNDDIRCARD10': 'SO', 'ISSNOW': 0, 'HCDC': '6.40', 'MCDC': '14.90', 'LCDC': '0.00', 'HGT0C': 3500, 'KINDEX': 30, 'CAPE180_0': '0.000', 'CIN180_0': 0}, '23H00': {'ICON': 'https://prevision-meteo.ch/style/images/icon/nuit-nuageuse.png', 'CONDITION': 'Nuit nuageuse', 'CONDITION_KEY': 'nuit-nuageuse', 'TMP2m': 19, 'DPT2m': -273.2, 'WNDCHILL2m': None, 'HUMIDEX': None, 'RH2m': 50, 'PRMSL': 1015.1, 'APCPsfc': 0, 'WNDSPD10m': 2, 'WNDGUST10m': 0, 'WNDDIR10m': 288, 'WNDDIRCARD10': 'O', 'ISSNOW': 0, 'HCDC': '36.10', 'MCDC': '0.00', 'LCDC': '0.00', 'HGT0C': 3500, 'KINDEX': 31, 'CAPE180_0': '0.000', 'CIN180_0': 0}}}, 'fcst_day_3': {'date': '13.10.2023', 'day_short': 'Ven.', 'day_long': 'Vendredi', 'tmin': 18, 'tmax': 31, 'condition': 'Eclaircies', 'condition_key': 'eclaircies', 'icon': 'https://prevision-meteo.ch/style/images/icon/eclaircies.png', 'icon_big': 'https://prevision-meteo.ch/style/images/icon/eclaircies-big.png', 'hourly_data': {'0H00': {'ICON': 'https://prevision-meteo.ch/style/images/icon/nuit-legerement-voilee.png', 'CONDITION': 'Nuit légèrement voilée', 'CONDITION_KEY': 'nuit-legerement-voilee', 'TMP2m': 18.4, 'DPT2m': -273.2, 'WNDCHILL2m': None, 'HUMIDEX': None, 'RH2m': 52, 'PRMSL': 1015.1, 'APCPsfc': 0, 'WNDSPD10m': 0, 'WNDGUST10m': 0, 'WNDDIR10m': 360, 'WNDDIRCARD10': 'N', 'ISSNOW': 0, 'HCDC': '100.00', 'MCDC': '0.90', 'LCDC': '0.00', 'HGT0C': 3400, 'KINDEX': 31, 'CAPE180_0': '0.000', 'CIN180_0': 0}, '1H00': {'ICON': 'https://prevision-meteo.ch/style/images/icon/nuit-legerement-voilee.png', 'CONDITION': 'Nuit légèrement voilée', 'CONDITION_KEY': 'nuit-legerement-voilee', 'TMP2m': 18.4, 'DPT2m': -273.2, 'WNDCHILL2m': None, 'HUMIDEX': None, 'RH2m': 52, 'PRMSL': 1015.1, 'APCPsfc': 0, 'WNDSPD10m': 2, 'WNDGUST10m': 0, 'WNDDIR10m': 211, 'WNDDIRCARD10': 'SO', 'ISSNOW': 0, 'HCDC': '100.00', 'MCDC': '0.00', 'LCDC': '0.00', 'HGT0C': 3400, 'KINDEX': 30, 'CAPE180_0': '0.000', 'CIN180_0': 0}, '2H00': {'ICON': 'https://prevision-meteo.ch/style/images/icon/nuit-legerement-voilee.png', 'CONDITION': 'Nuit légèrement voilée', 'CONDITION_KEY': 'nuit-legerement-voilee', 'TMP2m': 18.4, 'DPT2m': -273.2, 'WNDCHILL2m': None, 'HUMIDEX': None, 'RH2m': 51, 'PRMSL': 1014.9, 'APCPsfc': 0, 'WNDSPD10m': 4, 'WNDGUST10m': 0, 'WNDDIR10m': 194, 'WNDDIRCARD10': 'S', 'ISSNOW': 0, 'HCDC': '100.00', 'MCDC': '0.00', 'LCDC': '0.00', 'HGT0C': 3400, 'KINDEX': 30, 'CAPE180_0': '0.000', 'CIN180_0': 0}, '3H00': {'ICON': 'https://prevision-meteo.ch/style/images/icon/fortement-nuageux.png', 'CONDITION': 'Fortement nuageux', 'CONDITION_KEY': 'fortement-nuageux', 'TMP2m': 17.6, 'DPT2m': -273.2, 'WNDCHILL2m': None, 'HUMIDEX': None, 'RH2m': 52, 'PRMSL': 1014.6, 'APCPsfc': 0, 'WNDSPD10m': 9, 'WNDGUST10m': 0, 'WNDDIR10m': 194, 'WNDDIRCARD10': 'S', 'ISSNOW': 0, 'HCDC': '34.70', 'MCDC': '0.00', 'LCDC': '0.00', 'HGT0C': 3400, 'KINDEX': 30, 'CAPE180_0': '0.000', 'CIN180_0': 0}, '4H00': {'ICON': 'https://prevision-meteo.ch/style/images/icon/nuit-legerement-voilee.png', 'CONDITION': 'Nuit légèrement voilée', 'CONDITION_KEY': 'nuit-legerement-voilee', 'TMP2m': 18.1, 'DPT2m': -273.2, 'WNDCHILL2m': None, 'HUMIDEX': None, 'RH2m': 48, 'PRMSL': 1014, 'APCPsfc': 0, 'WNDSPD10m': 12, 'WNDGUST10m': 0, 'WNDDIR10m': 188, 'WNDDIRCARD10': 'S', 'ISSNOW': 0, 'HCDC': '55.80', 'MCDC': '0.00', 'LCDC': '0.00', 'HGT0C': 3300, 'KINDEX': 30, 'CAPE180_0': '0.000', 'CIN180_0': 0}, '5H00': {'ICON': 'https://prevision-meteo.ch/style/images/icon/nuit-legerement-voilee.png', 'CONDITION': 'Nuit légèrement voilée', 'CONDITION_KEY': 'nuit-legerement-voilee', 'TMP2m': 18.6, 'DPT2m': -273.2, 'WNDCHILL2m': None, 'HUMIDEX': None, 'RH2m': 44, 'PRMSL': 1013.5, 'APCPsfc': 0, 'WNDSPD10m': 16, 'WNDGUST10m': 0, 'WNDDIR10m': 191, 'WNDDIRCARD10': 'S', 'ISSNOW': 0, 'HCDC': '77.10', 'MCDC': '0.30', 'LCDC': '0.00', 'HGT0C': 3400, 'KINDEX': 29, 'CAPE180_0': '0.000', 'CIN180_0': 0}, '6H00': {'ICON': 'https://prevision-meteo.ch/style/images/icon/fortement-nuageux.png', 'CONDITION': 'Fortement nuageux', 'CONDITION_KEY': 'fortement-nuageux', 'TMP2m': 19.1, 'DPT2m': -273.2, 'WNDCHILL2m': None, 'HUMIDEX': None, 'RH2m': 44, 'PRMSL': 1013.6, 'APCPsfc': 0, 'WNDSPD10m': 18, 'WNDGUST10m': 0, 'WNDDIR10m': 198, 'WNDDIRCARD10': 'S', 'ISSNOW': 0, 'HCDC': '81.20', 'MCDC': '23.40', 'LCDC': '0.00', 'HGT0C': 3500, 'KINDEX': 27, 'CAPE180_0': '4.000', 'CIN180_0': -7}, '7H00': {'ICON': 'https://prevision-meteo.ch/style/images/icon/fortement-nuageux.png', 'CONDITION': 'Fortement nuageux', 'CONDITION_KEY': 'fortement-nuageux', 'TMP2m': 19.2, 'DPT2m': -273.2, 'WNDCHILL2m': None, 'HUMIDEX': None, 'RH2m': 46, 'PRMSL': 1013.5, 'APCPsfc': 0, 'WNDSPD10m': 17, 'WNDGUST10m': 0, 'WNDDIR10m': 197, 'WNDDIRCARD10': 'S', 'ISSNOW': 0, 'HCDC': '78.00', 'MCDC': '100.00', 'LCDC': '0.00', 'HGT0C': 3600, 'KINDEX': 28, 'CAPE180_0': '41.000', 'CIN180_0': -2}, '8H00': {'ICON': 'https://prevision-meteo.ch/style/images/icon/fortement-nuageux.png', 'CONDITION': 'Fortement nuageux', 'CONDITION_KEY': 'fortement-nuageux', 'TMP2m': 19.1, 'DPT2m': -273.2, 'WNDCHILL2m': None, 'HUMIDEX': None, 'RH2m': 47, 'PRMSL': 1013.6, 'APCPsfc': 0, 'WNDSPD10m': 16, 'WNDGUST10m': 0, 'WNDDIR10m': 201, 'WNDDIRCARD10': 'S', 'ISSNOW': 0, 'HCDC': '100.00', 'MCDC': '99.90', 'LCDC': '0.00', 'HGT0C': 3500, 'KINDEX': 28, 'CAPE180_0': '0.000', 'CIN180_0': 0}, '9H00': {'ICON': 'https://prevision-meteo.ch/style/images/icon/eclaircies.png', 'CONDITION': 'Eclaircies', 'CONDITION_KEY': 'eclaircies', 'TMP2m': 19.4, 'DPT2m': -273.2, 'WNDCHILL2m': None, 'HUMIDEX': None, 'RH2m': 47, 'PRMSL': 1013.6, 'APCPsfc': 0, 'WNDSPD10m': 16, 'WNDGUST10m': 0, 'WNDDIR10m': 201, 'WNDDIRCARD10': 'S', 'ISSNOW': 0, 'HCDC': '34.60', 'MCDC': '99.90', 'LCDC': '0.00', 'HGT0C': 3500, 'KINDEX': 28, 'CAPE180_0': '0.000', 'CIN180_0': 0}, '10H00': {'ICON': 'https://prevision-meteo.ch/style/images/icon/eclaircies.png', 'CONDITION': 'Eclaircies', 'CONDITION_KEY': 'eclaircies', 'TMP2m': 21, 'DPT2m': -273.2, 'WNDCHILL2m': None, 'HUMIDEX': 21.5, 'RH2m': 44, 'PRMSL': 1013.7, 'APCPsfc': 0, 'WNDSPD10m': 17, 'WNDGUST10m': 0, 'WNDDIR10m': 196, 'WNDDIRCARD10': 'S', 'ISSNOW': 0, 'HCDC': '0.00', 'MCDC': '81.70', 'LCDC': '0.00', 'HGT0C': 3500, 'KINDEX': 26, 'CAPE180_0': '0.000', 'CIN180_0': 0}, '11H00': {'ICON': 'https://prevision-meteo.ch/style/images/icon/eclaircies.png', 'CONDITION': 'Eclaircies', 'CONDITION_KEY': 'eclaircies', 'TMP2m': 23.5, 'DPT2m': -273.2, 'WNDCHILL2m': None, 'HUMIDEX': 24.2, 'RH2m': 39, 'PRMSL': 1013.4, 'APCPsfc': 0, 'WNDSPD10m': 18, 'WNDGUST10m': 0, 'WNDDIR10m': 202, 'WNDDIRCARD10': 'S', 'ISSNOW': 0, 'HCDC': '0.00', 'MCDC': '11.10', 'LCDC': '0.00', 'HGT0C': 3600, 'KINDEX': 26, 'CAPE180_0': '0.000', 'CIN180_0': 0}, '12H00': {'ICON': 'https://prevision-meteo.ch/style/images/icon/eclaircies.png', 'CONDITION': 'Eclaircies', 'CONDITION_KEY': 'eclaircies', 'TMP2m': 25.8, 'DPT2m': -273.2, 'WNDCHILL2m': None, 'HUMIDEX': 26.5, 'RH2m': 34, 'PRMSL': 1012.9, 'APCPsfc': 0, 'WNDSPD10m': 19, 'WNDGUST10m': 0, 'WNDDIR10m': 209, 'WNDDIRCARD10': 'SO', 'ISSNOW': 0, 'HCDC': '0.00', 'MCDC': '11.10', 'LCDC': '0.00', 'HGT0C': 3600, 'KINDEX': 27, 'CAPE180_0': '0.000', 'CIN180_0': 0}, '13H00': {'ICON': 'https://prevision-meteo.ch/style/images/icon/faibles-passages-nuageux.png', 'CONDITION': 'Faibles passages nuageux', 'CONDITION_KEY': 'faibles-passages-nuageux', 'TMP2m': 27.9, 'DPT2m': -273.2, 'WNDCHILL2m': None, 'HUMIDEX': 28.4, 'RH2m': 29, 'PRMSL': 1012.5, 'APCPsfc': 0, 'WNDSPD10m': 19, 'WNDGUST10m': 0, 'WNDDIR10m': 220, 'WNDDIRCARD10': 'SO', 'ISSNOW': 0, 'HCDC': '0.00', 'MCDC': '0.00', 'LCDC': '0.00', 'HGT0C': 3600, 'KINDEX': 28, 'CAPE180_0': '0.000', 'CIN180_0': 0}, '14H00': {'ICON': 'https://prevision-meteo.ch/style/images/icon/eclaircies.png', 'CONDITION': 'Eclaircies', 'CONDITION_KEY': 'eclaircies', 'TMP2m': 28.8, 'DPT2m': -273.2, 'WNDCHILL2m': None, 'HUMIDEX': 28.8, 'RH2m': 25, 'PRMSL': 1011.7, 'APCPsfc': 0, 'WNDSPD10m': 20, 'WNDGUST10m': 0, 'WNDDIR10m': 229, 'WNDDIRCARD10': 'SO', 'ISSNOW': 0, 'HCDC': '0.00', 'MCDC': '0.00', 'LCDC': '0.00', 'HGT0C': 3500, 'KINDEX': 29, 'CAPE180_0': '0.000', 'CIN180_0': 0}, '15H00': {'ICON': 'https://prevision-meteo.ch/style/images/icon/eclaircies.png', 'CONDITION': 'Eclaircies', 'CONDITION_KEY': 'eclaircies', 'TMP2m': 29.2, 'DPT2m': -273.2, 'WNDCHILL2m': None, 'HUMIDEX': 28.8, 'RH2m': 23, 'PRMSL': 1010.8, 'APCPsfc': 0, 'WNDSPD10m': 19, 'WNDGUST10m': 0, 'WNDDIR10m': 223, 'WNDDIRCARD10': 'SO', 'ISSNOW': 0, 'HCDC': '0.00', 'MCDC': '0.00', 'LCDC': '0.00', 'HGT0C': 3400, 'KINDEX': 29, 'CAPE180_0': '0.000', 'CIN180_0': 0}, '16H00': {'ICON': 'https://prevision-meteo.ch/style/images/icon/ciel-voile.png', 'CONDITION': 'Ciel voilé', 'CONDITION_KEY': 'ciel-voile', 'TMP2m': 29.3, 'DPT2m': -273.2, 'WNDCHILL2m': None, 'HUMIDEX': 28.7, 'RH2m': 22, 'PRMSL': 1009.9, 'APCPsfc': 0, 'WNDSPD10m': 20, 'WNDGUST10m': 0, 'WNDDIR10m': 218, 'WNDDIRCARD10': 'SO', 'ISSNOW': 0, 'HCDC': '41.80', 'MCDC': '0.00', 'LCDC': '0.00', 'HGT0C': 3500, 'KINDEX': 28, 'CAPE180_0': '0.000', 'CIN180_0': 0}, '17H00': {'ICON': 'https://prevision-meteo.ch/style/images/icon/ciel-voile.png', 'CONDITION': 'Ciel voilé', 'CONDITION_KEY': 'ciel-voile', 'TMP2m': 28.7, 'DPT2m': -273.2, 'WNDCHILL2m': None, 'HUMIDEX': 28.2, 'RH2m': 23, 'PRMSL': 1009.3, 'APCPsfc': 0, 'WNDSPD10m': 20, 'WNDGUST10m': 0, 'WNDDIR10m': 216, 'WNDDIRCARD10': 'SO', 'ISSNOW': 0, 'HCDC': '65.20', 'MCDC': '0.00', 'LCDC': '0.00', 'HGT0C': 3500, 'KINDEX': 29, 'CAPE180_0': '0.000', 'CIN180_0': 0}, '18H00': {'ICON': 'https://prevision-meteo.ch/style/images/icon/ciel-voile.png', 'CONDITION': 'Ciel voilé', 'CONDITION_KEY': 'ciel-voile', 'TMP2m': 27.4, 'DPT2m': -273.2, 'WNDCHILL2m': None, 'HUMIDEX': 26.9, 'RH2m': 25, 'PRMSL': 1008.8, 'APCPsfc': 0, 'WNDSPD10m': 20, 'WNDGUST10m': 0, 'WNDDIR10m': 207, 'WNDDIRCARD10': 'SO', 'ISSNOW': 0, 'HCDC': '86.00', 'MCDC': '0.00', 'LCDC': '0.00', 'HGT0C': 3600, 'KINDEX': 31, 'CAPE180_0': '0.000', 'CIN180_0': 0}, '19H00': {'ICON': 'https://prevision-meteo.ch/style/images/icon/nuit-legerement-voilee.png', 'CONDITION': 'Nuit légèrement voilée', 'CONDITION_KEY': 'nuit-legerement-voilee', 'TMP2m': 24.9, 'DPT2m': -273.2, 'WNDCHILL2m': None, 'HUMIDEX': 24.4, 'RH2m': 29, 'PRMSL': 1008.4, 'APCPsfc': 0, 'WNDSPD10m': 18, 'WNDGUST10m': 0, 'WNDDIR10m': 200, 'WNDDIRCARD10': 'S', 'ISSNOW': 0, 'HCDC': '91.10', 'MCDC': '0.00', 'LCDC': '0.00', 'HGT0C': 3600, 'KINDEX': 34, 'CAPE180_0': '0.000', 'CIN180_0': 0}, '20H00': {'ICON': 'https://prevision-meteo.ch/style/images/icon/nuit-legerement-voilee.png', 'CONDITION': 'Nuit légèrement voilée', 'CONDITION_KEY': 'nuit-legerement-voilee', 'TMP2m': 22.7, 'DPT2m': -273.2, 'WNDCHILL2m': None, 'HUMIDEX': 22.3, 'RH2m': 34, 'PRMSL': 1008.2, 'APCPsfc': 0, 'WNDSPD10m': 18, 'WNDGUST10m': 0, 'WNDDIR10m': 199, 'WNDDIRCARD10': 'S', 'ISSNOW': 0, 'HCDC': '88.50', 'MCDC': '0.00', 'LCDC': '0.00', 'HGT0C': 3600, 'KINDEX': 35, 'CAPE180_0': '0.000', 'CIN180_0': 0}, '21H00': {'ICON': 'https://prevision-meteo.ch/style/images/icon/nuit-nuageuse.png', 'CONDITION': 'Nuit nuageuse', 'CONDITION_KEY': 'nuit-nuageuse', 'TMP2m': 21.2, 'DPT2m': -273.2, 'WNDCHILL2m': None, 'HUMIDEX': 21.1, 'RH2m': 39, 'PRMSL': 1008, 'APCPsfc': 0, 'WNDSPD10m': 19, 'WNDGUST10m': 0, 'WNDDIR10m': 195, 'WNDDIRCARD10': 'S', 'ISSNOW': 0, 'HCDC': '100.00', 'MCDC': '68.30', 'LCDC': '0.00', 'HGT0C': 3500, 'KINDEX': 34, 'CAPE180_0': '0.000', 'CIN180_0': 0}, '22H00': {'ICON': 'https://prevision-meteo.ch/style/images/icon/nuit-nuageuse.png', 'CONDITION': 'Nuit nuageuse', 'CONDITION_KEY': 'nuit-nuageuse', 'TMP2m': 20.5, 'DPT2m': -273.2, 'WNDCHILL2m': None, 'HUMIDEX': 20.5, 'RH2m': 42, 'PRMSL': 1007.9, 'APCPsfc': 0, 'WNDSPD10m': 19, 'WNDGUST10m': 0, 'WNDDIR10m': 196, 'WNDDIRCARD10': 'S', 'ISSNOW': 0, 'HCDC': '100.00', 'MCDC': '99.90', 'LCDC': '0.00', 'HGT0C': 3500, 'KINDEX': 36, 'CAPE180_0': '0.000', 'CIN180_0': 0}, '23H00': {'ICON': 'https://prevision-meteo.ch/style/images/icon/nuit-nuageuse.png', 'CONDITION': 'Nuit nuageuse', 'CONDITION_KEY': 'nuit-nuageuse', 'TMP2m': 20, 'DPT2m': -273.2, 'WNDCHILL2m': None, 'HUMIDEX': 20.1, 'RH2m': 44, 'PRMSL': 1007.8, 'APCPsfc': 0, 'WNDSPD10m': 19, 'WNDGUST10m': 0, 'WNDDIR10m': 196, 'WNDDIRCARD10': 'S', 'ISSNOW': 0, 'HCDC': '90.90', 'MCDC': '100.00', 'LCDC': '0.00', 'HGT0C': 3400, 'KINDEX': 38, 'CAPE180_0': '0.000', 'CIN180_0': 0}}}, 'fcst_day_4': {'date': '14.10.2023', 'day_short': 'Sam.', 'day_long': 'Samedi', 'tmin': 9, 'tmax': 21, 'condition': 'Averses de pluie faible', 'condition_key': 'averses-de-pluie-faible', 'icon': 'https://prevision-meteo.ch/style/images/icon/averses-de-pluie-faible.png', 'icon_big': 'https://prevision-meteo.ch/style/images/icon/averses-de-pluie-faible-big.png', 'hourly_data': {'0H00': {'ICON': 'https://prevision-meteo.ch/style/images/icon/nuit-nuageuse.png', 'CONDITION': 'Nuit nuageuse', 'CONDITION_KEY': 'nuit-nuageuse', 'TMP2m': 20, 'DPT2m': -273.2, 'WNDCHILL2m': None, 'HUMIDEX': 20.3, 'RH2m': 45, 'PRMSL': 1007.7, 'APCPsfc': 0, 'WNDSPD10m': 19, 'WNDGUST10m': 0, 'WNDDIR10m': 196, 'WNDDIRCARD10': 'S', 'ISSNOW': 0, 'HCDC': '88.20', 'MCDC': '100.00', 'LCDC': '0.00', 'HGT0C': 3400, 'KINDEX': 40, 'CAPE180_0': '79.040', 'CIN180_0': -68}, '1H00': {'ICON': 'https://prevision-meteo.ch/style/images/icon/nuit-nuageuse.png', 'CONDITION': 'Nuit nuageuse', 'CONDITION_KEY': 'nuit-nuageuse', 'TMP2m': 19.8, 'DPT2m': -273.2, 'WNDCHILL2m': None, 'HUMIDEX': None, 'RH2m': 49, 'PRMSL': 1007.5, 'APCPsfc': 0, 'WNDSPD10m': 18, 'WNDGUST10m': 0, 'WNDDIR10m': 199, 'WNDDIRCARD10': 'S', 'ISSNOW': 0, 'HCDC': '100.00', 'MCDC': '100.00', 'LCDC': '9.01', 'HGT0C': 3400, 'KINDEX': 41, 'CAPE180_0': '135.040', 'CIN180_0': -55}, '2H00': {'ICON': 'https://prevision-meteo.ch/style/images/icon/nuit-nuageuse.png', 'CONDITION': 'Nuit nuageuse', 'CONDITION_KEY': 'nuit-nuageuse', 'TMP2m': 19.4, 'DPT2m': -273.2, 'WNDCHILL2m': None, 'HUMIDEX': None, 'RH2m': 51, 'PRMSL': 1007, 'APCPsfc': 0, 'WNDSPD10m': 18, 'WNDGUST10m': 0, 'WNDDIR10m': 200, 'WNDDIRCARD10': 'S', 'ISSNOW': 0, 'HCDC': '100.00', 'MCDC': '100.00', 'LCDC': '63.65', 'HGT0C': 3400, 'KINDEX': 42, 'CAPE180_0': '150.000', 'CIN180_0': -83}, '3H00': {'ICON': 'https://prevision-meteo.ch/style/images/icon/nuit-nuageuse.png', 'CONDITION': 'Nuit nuageuse', 'CONDITION_KEY': 'nuit-nuageuse', 'TMP2m': 19, 'DPT2m': -273.2, 'WNDCHILL2m': None, 'HUMIDEX': None, 'RH2m': 52, 'PRMSL': 1006.7, 'APCPsfc': 0, 'WNDSPD10m': 18, 'WNDGUST10m': 0, 'WNDDIR10m': 207, 'WNDDIRCARD10': 'SO', 'ISSNOW': 0, 'HCDC': '99.50', 'MCDC': '100.00', 'LCDC': '81.21', 'HGT0C': 3400, 'KINDEX': 41, 'CAPE180_0': '95.000', 'CIN180_0': -96}, '4H00': {'ICON': 'https://prevision-meteo.ch/style/images/icon/nuit-nuageuse.png', 'CONDITION': 'Nuit nuageuse', 'CONDITION_KEY': 'nuit-nuageuse', 'TMP2m': 19.1, 'DPT2m': -273.2, 'WNDCHILL2m': None, 'HUMIDEX': None, 'RH2m': 54, 'PRMSL': 1006.9, 'APCPsfc': 0, 'WNDSPD10m': 18, 'WNDGUST10m': 0, 'WNDDIR10m': 219, 'WNDDIRCARD10': 'SO', 'ISSNOW': 0, 'HCDC': '85.50', 'MCDC': '1.90', 'LCDC': '74.21', 'HGT0C': 3300, 'KINDEX': 40, 'CAPE180_0': '77.000', 'CIN180_0': -71}, '5H00': {'ICON': 'https://prevision-meteo.ch/style/images/icon/nuit-nuageuse.png', 'CONDITION': 'Nuit nuageuse', 'CONDITION_KEY': 'nuit-nuageuse', 'TMP2m': 19, 'DPT2m': -273.2, 'WNDCHILL2m': None, 'HUMIDEX': None, 'RH2m': 58, 'PRMSL': 1006.6, 'APCPsfc': 0, 'WNDSPD10m': 15, 'WNDGUST10m': 0, 'WNDDIR10m': 211, 'WNDDIRCARD10': 'SO', 'ISSNOW': 0, 'HCDC': '10.60', 'MCDC': '4.20', 'LCDC': '6.41', 'HGT0C': 3300, 'KINDEX': 37, 'CAPE180_0': '50.000', 'CIN180_0': -84}, '6H00': {'ICON': 'https://prevision-meteo.ch/style/images/icon/fortement-nuageux.png', 'CONDITION': 'Fortement nuageux', 'CONDITION_KEY': 'fortement-nuageux', 'TMP2m': 18.6, 'DPT2m': -273.2, 'WNDCHILL2m': None, 'HUMIDEX': None, 'RH2m': 59, 'PRMSL': 1006.6, 'APCPsfc': 0, 'WNDSPD10m': 14, 'WNDGUST10m': 0, 'WNDDIR10m': 202, 'WNDDIRCARD10': 'S', 'ISSNOW': 0, 'HCDC': '3.50', 'MCDC': '63.00', 'LCDC': '98.88', 'HGT0C': 3200, 'KINDEX': 35, 'CAPE180_0': '64.000', 'CIN180_0': -52}, '7H00': {'ICON': 'https://prevision-meteo.ch/style/images/icon/nuit-nuageuse.png', 'CONDITION': 'Nuit nuageuse', 'CONDITION_KEY': 'nuit-nuageuse', 'TMP2m': 18.1, 'DPT2m': -273.2, 'WNDCHILL2m': None, 'HUMIDEX': None, 'RH2m': 61, 'PRMSL': 1006.1, 'APCPsfc': 0.2, 'WNDSPD10m': 13, 'WNDGUST10m': 0, 'WNDDIR10m': 198, 'WNDDIRCARD10': 'S', 'ISSNOW': 0, 'HCDC': '3.20', 'MCDC': '23.10', 'LCDC': '24.53', 'HGT0C': 3200, 'KINDEX': 34, 'CAPE180_0': '59.040', 'CIN180_0': -19}, '8H00': {'ICON': 'https://prevision-meteo.ch/style/images/icon/fortement-nuageux.png', 'CONDITION': 'Fortement nuageux', 'CONDITION_KEY': 'fortement-nuageux', 'TMP2m': 17.8, 'DPT2m': -273.2, 'WNDCHILL2m': None, 'HUMIDEX': None, 'RH2m': 64, 'PRMSL': 1005.6, 'APCPsfc': 0, 'WNDSPD10m': 15, 'WNDGUST10m': 0, 'WNDDIR10m': 197, 'WNDDIRCARD10': 'S', 'ISSNOW': 0, 'HCDC': '69.20', 'MCDC': '89.30', 'LCDC': '52.82', 'HGT0C': 3200, 'KINDEX': 35, 'CAPE180_0': '29.040', 'CIN180_0': -28}, '9H00': {'ICON': 'https://prevision-meteo.ch/style/images/icon/eclaircies.png', 'CONDITION': 'Eclaircies', 'CONDITION_KEY': 'eclaircies', 'TMP2m': 17.9, 'DPT2m': -273.2, 'WNDCHILL2m': None, 'HUMIDEX': None, 'RH2m': 66, 'PRMSL': 1005.2, 'APCPsfc': 0, 'WNDSPD10m': 17, 'WNDGUST10m': 0, 'WNDDIR10m': 202, 'WNDDIRCARD10': 'S', 'ISSNOW': 0, 'HCDC': '48.20', 'MCDC': '70.60', 'LCDC': '47.42', 'HGT0C': 3200, 'KINDEX': 35, 'CAPE180_0': '19.040', 'CIN180_0': -5}, '10H00': {'ICON': 'https://prevision-meteo.ch/style/images/icon/pluie-faible.png', 'CONDITION': 'Pluie faible', 'CONDITION_KEY': 'pluie-faible', 'TMP2m': 17.3, 'DPT2m': -273.2, 'WNDCHILL2m': None, 'HUMIDEX': None, 'RH2m': 74, 'PRMSL': 1005, 'APCPsfc': 0.5, 'WNDSPD10m': 21, 'WNDGUST10m': 0, 'WNDDIR10m': 198, 'WNDDIRCARD10': 'S', 'ISSNOW': 0, 'HCDC': '72.20', 'MCDC': '86.20', 'LCDC': '96.82', 'HGT0C': 3100, 'KINDEX': 34, 'CAPE180_0': '66.000', 'CIN180_0': -3}, '11H00': {'ICON': 'https://prevision-meteo.ch/style/images/icon/pluie-faible.png', 'CONDITION': 'Pluie faible', 'CONDITION_KEY': 'pluie-faible', 'TMP2m': 17.2, 'DPT2m': -273.2, 'WNDCHILL2m': None, 'HUMIDEX': None, 'RH2m': 78, 'PRMSL': 1004.7, 'APCPsfc': 0.6, 'WNDSPD10m': 23, 'WNDGUST10m': 0, 'WNDDIR10m': 205, 'WNDDIRCARD10': 'SO', 'ISSNOW': 0, 'HCDC': '13.40', 'MCDC': '74.20', 'LCDC': '62.28', 'HGT0C': 3100, 'KINDEX': 35, 'CAPE180_0': '192.000', 'CIN180_0': 0}, '12H00': {'ICON': 'https://prevision-meteo.ch/style/images/icon/pluie-moderee.png', 'CONDITION': 'Pluie modérée', 'CONDITION_KEY': 'pluie-moderee', 'TMP2m': 17.1, 'DPT2m': -273.2, 'WNDCHILL2m': None, 'HUMIDEX': None, 'RH2m': 85, 'PRMSL': 1004.4, 'APCPsfc': 3.5, 'WNDSPD10m': 21, 'WNDGUST10m': 0, 'WNDDIR10m': 221, 'WNDDIRCARD10': 'SO', 'ISSNOW': 0, 'HCDC': '0.00', 'MCDC': '99.70', 'LCDC': '63.20', 'HGT0C': 3000, 'KINDEX': 35, 'CAPE180_0': '129.040', 'CIN180_0': 0}, '13H00': {'ICON': 'https://prevision-meteo.ch/style/images/icon/pluie-moderee.png', 'CONDITION': 'Pluie modérée', 'CONDITION_KEY': 'pluie-moderee', 'TMP2m': 18.4, 'DPT2m': -273.2, 'WNDCHILL2m': None, 'HUMIDEX': None, 'RH2m': 78, 'PRMSL': 1004.1, 'APCPsfc': 1.2, 'WNDSPD10m': 23, 'WNDGUST10m': 0, 'WNDDIR10m': 229, 'WNDDIRCARD10': 'SO', 'ISSNOW': 0, 'HCDC': '0.00', 'MCDC': '100.00', 'LCDC': '99.26', 'HGT0C': 2900, 'KINDEX': 35, 'CAPE180_0': '353.040', 'CIN180_0': -3}, '14H00': {'ICON': 'https://prevision-meteo.ch/style/images/icon/averses-de-pluie-faible.png', 'CONDITION': 'Averses de pluie faible', 'CONDITION_KEY': 'averses-de-pluie-faible', 'TMP2m': 20.3, 'DPT2m': -273.2, 'WNDCHILL2m': None, 'HUMIDEX': 24, 'RH2m': 70, 'PRMSL': 1003.3, 'APCPsfc': 0.2, 'WNDSPD10m': 24, 'WNDGUST10m': 0, 'WNDDIR10m': 221, 'WNDDIRCARD10': 'SO', 'ISSNOW': 0, 'HCDC': '0.00', 'MCDC': '77.20', 'LCDC': '58.60', 'HGT0C': 3000, 'KINDEX': 36, 'CAPE180_0': '620.000', 'CIN180_0': 0}, '15H00': {'ICON': 'https://prevision-meteo.ch/style/images/icon/averses-de-pluie-faible.png', 'CONDITION': 'Averses de pluie faible', 'CONDITION_KEY': 'averses-de-pluie-faible', 'TMP2m': 20.6, 'DPT2m': -273.2, 'WNDCHILL2m': None, 'HUMIDEX': 23.4, 'RH2m': 62, 'PRMSL': 1002.7, 'APCPsfc': 0.1, 'WNDSPD10m': 29, 'WNDGUST10m': 0, 'WNDDIR10m': 234, 'WNDDIRCARD10': 'SO', 'ISSNOW': 0, 'HCDC': '0.00', 'MCDC': '0.00', 'LCDC': '0.00', 'HGT0C': 2800, 'KINDEX': 35, 'CAPE180_0': '450.000', 'CIN180_0': 0}, '16H00': {'ICON': 'https://prevision-meteo.ch/style/images/icon/averses-de-pluie-faible.png', 'CONDITION': 'Averses de pluie faible', 'CONDITION_KEY': 'averses-de-pluie-faible', 'TMP2m': 20.6, 'DPT2m': -273.2, 'WNDCHILL2m': None, 'HUMIDEX': 23.5, 'RH2m': 63, 'PRMSL': 1002, 'APCPsfc': 0.2, 'WNDSPD10m': 34, 'WNDGUST10m': 0, 'WNDDIR10m': 239, 'WNDDIRCARD10': 'SO', 'ISSNOW': 0, 'HCDC': '0.00', 'MCDC': '0.00', 'LCDC': '0.00', 'HGT0C': 2800, 'KINDEX': 35, 'CAPE180_0': '442.000', 'CIN180_0': 0}, '17H00': {'ICON': 'https://prevision-meteo.ch/style/images/icon/averses-de-pluie-faible.png', 'CONDITION': 'Averses de pluie faible', 'CONDITION_KEY': 'averses-de-pluie-faible', 'TMP2m': 19.5, 'DPT2m': -273.2, 'WNDCHILL2m': None, 'HUMIDEX': None, 'RH2m': 70, 'PRMSL': 1002.2, 'APCPsfc': 0.1, 'WNDSPD10m': 26, 'WNDGUST10m': 0, 'WNDDIR10m': 235, 'WNDDIRCARD10': 'SO', 'ISSNOW': 0, 'HCDC': '0.00', 'MCDC': '0.00', 'LCDC': '0.00', 'HGT0C': 2800, 'KINDEX': 34, 'CAPE180_0': '504.000', 'CIN180_0': 0}, '18H00': {'ICON': 'https://prevision-meteo.ch/style/images/icon/averses-de-pluie-faible.png', 'CONDITION': 'Averses de pluie faible', 'CONDITION_KEY': 'averses-de-pluie-faible', 'TMP2m': 15.6, 'DPT2m': -273.2, 'WNDCHILL2m': None, 'HUMIDEX': None, 'RH2m': 89, 'PRMSL': 1003.7, 'APCPsfc': 10.2, 'WNDSPD10m': 24, 'WNDGUST10m': 0, 'WNDDIR10m': 330, 'WNDDIRCARD10': 'NO', 'ISSNOW': 0, 'HCDC': '0.00', 'MCDC': '0.00', 'LCDC': '0.00', 'HGT0C': 2900, 'KINDEX': 34, 'CAPE180_0': '23.040', 'CIN180_0': 0}, '19H00': {'ICON': 'https://prevision-meteo.ch/style/images/icon/nuit-avec-averses.png', 'CONDITION': 'Nuit avec averses', 'CONDITION_KEY': 'nuit-avec-averses', 'TMP2m': 13, 'DPT2m': -273.2, 'WNDCHILL2m': None, 'HUMIDEX': None, 'RH2m': 82, 'PRMSL': 1006.9, 'APCPsfc': 0.9, 'WNDSPD10m': 22, 'WNDGUST10m': 0, 'WNDDIR10m': 332, 'WNDDIRCARD10': 'NO', 'ISSNOW': 0, 'HCDC': '0.00', 'MCDC': '0.00', 'LCDC': '0.00', 'HGT0C': 2700, 'KINDEX': 31, 'CAPE180_0': '4.000', 'CIN180_0': 0}, '20H00': {'ICON': 'https://prevision-meteo.ch/style/images/icon/nuit-claire.png', 'CONDITION': 'Nuit claire', 'CONDITION_KEY': 'nuit-claire', 'TMP2m': 12.9, 'DPT2m': -273.2, 'WNDCHILL2m': None, 'HUMIDEX': None, 'RH2m': 84, 'PRMSL': 1008.9, 'APCPsfc': 0, 'WNDSPD10m': 19, 'WNDGUST10m': 0, 'WNDDIR10m': 335, 'WNDDIRCARD10': 'NO', 'ISSNOW': 0, 'HCDC': '0.00', 'MCDC': '0.00', 'LCDC': '0.00', 'HGT0C': 2600, 'KINDEX': 27, 'CAPE180_0': '12.000', 'CIN180_0': 0}, '21H00': {'ICON': 'https://prevision-meteo.ch/style/images/icon/nuit-claire.png', 'CONDITION': 'Nuit claire', 'CONDITION_KEY': 'nuit-claire', 'TMP2m': 11.8, 'DPT2m': -273.2, 'WNDCHILL2m': None, 'HUMIDEX': None, 'RH2m': 86, 'PRMSL': 1010.7, 'APCPsfc': 0, 'WNDSPD10m': 16, 'WNDGUST10m': 0, 'WNDDIR10m': 320, 'WNDDIRCARD10': 'NO', 'ISSNOW': 0, 'HCDC': '0.00', 'MCDC': '0.00', 'LCDC': '0.00', 'HGT0C': 2400, 'KINDEX': 28, 'CAPE180_0': '0.000', 'CIN180_0': 0}, '22H00': {'ICON': 'https://prevision-meteo.ch/style/images/icon/nuit-claire.png', 'CONDITION': 'Nuit claire', 'CONDITION_KEY': 'nuit-claire', 'TMP2m': 10.7, 'DPT2m': -273.2, 'WNDCHILL2m': None, 'HUMIDEX': None, 'RH2m': 87, 'PRMSL': 1011.7, 'APCPsfc': 0, 'WNDSPD10m': 13, 'WNDGUST10m': 0, 'WNDDIR10m': 310, 'WNDDIRCARD10': 'NO', 'ISSNOW': 0, 'HCDC': '0.00', 'MCDC': '0.00', 'LCDC': '0.00', 'HGT0C': 1700, 'KINDEX': 38, 'CAPE180_0': '32.000', 'CIN180_0': -8}, '23H00': {'ICON': 'https://prevision-meteo.ch/style/images/icon/nuit-claire.png', 'CONDITION': 'Nuit claire', 'CONDITION_KEY': 'nuit-claire', 'TMP2m': 10.1, 'DPT2m': -273.2, 'WNDCHILL2m': None, 'HUMIDEX': None, 'RH2m': 86, 'PRMSL': 1012.3, 'APCPsfc': 0, 'WNDSPD10m': 12, 'WNDGUST10m': 0, 'WNDDIR10m': 299, 'WNDDIRCARD10': 'NO', 'ISSNOW': 0, 'HCDC': '0.00', 'MCDC': '0.00', 'LCDC': '0.00', 'HGT0C': 1500, 'KINDEX': 45, 'CAPE180_0': '24.000', 'CIN180_0': -12}}}}\n"
     ]
    }
   ],
   "source": [
    "print(type(jsondict))\n",
    "print(jsondict)"
   ]
  },
  {
   "cell_type": "markdown",
   "metadata": {
    "slideshow": {
     "slide_type": "subslide"
    }
   },
   "source": [
    "On essaie de faire mieux en affichant uniquement les clés du dictionnaire :"
   ]
  },
  {
   "cell_type": "code",
   "execution_count": 4,
   "metadata": {},
   "outputs": [
    {
     "name": "stdout",
     "output_type": "stream",
     "text": [
      "'city_info'\n",
      "'forecast_info'\n",
      "'current_condition'\n",
      "'fcst_day_0'\n",
      "'fcst_day_1'\n",
      "'fcst_day_2'\n",
      "'fcst_day_3'\n",
      "'fcst_day_4'\n"
     ]
    }
   ],
   "source": [
    "for k in jsondict:\n",
    "    print(repr(k))"
   ]
  },
  {
   "cell_type": "markdown",
   "metadata": {},
   "source": [
    "On est intéressé par le temps d'aujourd'hui :"
   ]
  },
  {
   "cell_type": "code",
   "execution_count": 5,
   "metadata": {},
   "outputs": [
    {
     "name": "stdout",
     "output_type": "stream",
     "text": [
      "<class 'dict'>\n",
      "{'date': '10.10.2023', 'day_short': 'Mar.', 'day_long': 'Mardi', 'tmin': 13, 'tmax': 28, 'condition': 'Ensoleillé', 'condition_key': 'ensoleille', 'icon': 'https://prevision-meteo.ch/style/images/icon/ensoleille.png', 'icon_big': 'https://prevision-meteo.ch/style/images/icon/ensoleille-big.png', 'hourly_data': {'0H00': {'ICON': 'https://prevision-meteo.ch/style/images/icon/nuit-nuageuse.png', 'CONDITION': 'Nuit nuageuse', 'CONDITION_KEY': 'nuit-nuageuse', 'TMP2m': 16, 'DPT2m': -273.2, 'WNDCHILL2m': None, 'HUMIDEX': None, 'RH2m': 55, 'PRMSL': 1019.7, 'APCPsfc': 0, 'WNDSPD10m': 4, 'WNDGUST10m': 0, 'WNDDIR10m': 239, 'WNDDIRCARD10': 'SO', 'ISSNOW': 0, 'HCDC': '0.00', 'MCDC': '0.00', 'LCDC': '0.00', 'HGT0C': 3700, 'KINDEX': 31, 'CAPE180_0': '0.000', 'CIN180_0': 0}, '1H00': {'ICON': 'https://prevision-meteo.ch/style/images/icon/nuit-nuageuse.png', 'CONDITION': 'Nuit nuageuse', 'CONDITION_KEY': 'nuit-nuageuse', 'TMP2m': 15.4, 'DPT2m': -273.2, 'WNDCHILL2m': None, 'HUMIDEX': None, 'RH2m': 56, 'PRMSL': 1019.4, 'APCPsfc': 0, 'WNDSPD10m': 1, 'WNDGUST10m': 0, 'WNDDIR10m': 270, 'WNDDIRCARD10': 'O', 'ISSNOW': 0, 'HCDC': '0.00', 'MCDC': '0.00', 'LCDC': '0.00', 'HGT0C': 3700, 'KINDEX': 32, 'CAPE180_0': '0.000', 'CIN180_0': 0}, '2H00': {'ICON': 'https://prevision-meteo.ch/style/images/icon/nuit-claire.png', 'CONDITION': 'Nuit claire', 'CONDITION_KEY': 'nuit-claire', 'TMP2m': 14.9, 'DPT2m': -273.2, 'WNDCHILL2m': None, 'HUMIDEX': None, 'RH2m': 58, 'PRMSL': 1019.3, 'APCPsfc': 0, 'WNDSPD10m': 3, 'WNDGUST10m': 0, 'WNDDIR10m': 166, 'WNDDIRCARD10': 'S', 'ISSNOW': 0, 'HCDC': '0.60', 'MCDC': '0.00', 'LCDC': '0.00', 'HGT0C': 3700, 'KINDEX': 33, 'CAPE180_0': '0.000', 'CIN180_0': 0}, '3H00': {'ICON': 'https://prevision-meteo.ch/style/images/icon/nuit-claire.png', 'CONDITION': 'Nuit claire', 'CONDITION_KEY': 'nuit-claire', 'TMP2m': 14.5, 'DPT2m': -273.2, 'WNDCHILL2m': None, 'HUMIDEX': None, 'RH2m': 59, 'PRMSL': 1019.2, 'APCPsfc': 0, 'WNDSPD10m': 2, 'WNDGUST10m': 0, 'WNDDIR10m': 243, 'WNDDIRCARD10': 'SO', 'ISSNOW': 0, 'HCDC': '2.60', 'MCDC': '0.00', 'LCDC': '0.00', 'HGT0C': 3700, 'KINDEX': 34, 'CAPE180_0': '0.000', 'CIN180_0': 0}, '4H00': {'ICON': 'https://prevision-meteo.ch/style/images/icon/nuit-claire.png', 'CONDITION': 'Nuit claire', 'CONDITION_KEY': 'nuit-claire', 'TMP2m': 13.9, 'DPT2m': -273.2, 'WNDCHILL2m': None, 'HUMIDEX': None, 'RH2m': 61, 'PRMSL': 1018.8, 'APCPsfc': 0, 'WNDSPD10m': 1, 'WNDGUST10m': 0, 'WNDDIR10m': 207, 'WNDDIRCARD10': 'SO', 'ISSNOW': 0, 'HCDC': '2.60', 'MCDC': '0.00', 'LCDC': '0.00', 'HGT0C': 3700, 'KINDEX': 35, 'CAPE180_0': '0.000', 'CIN180_0': 0}, '5H00': {'ICON': 'https://prevision-meteo.ch/style/images/icon/nuit-claire.png', 'CONDITION': 'Nuit claire', 'CONDITION_KEY': 'nuit-claire', 'TMP2m': 13.7, 'DPT2m': -273.2, 'WNDCHILL2m': None, 'HUMIDEX': None, 'RH2m': 61, 'PRMSL': 1019, 'APCPsfc': 0, 'WNDSPD10m': 3, 'WNDGUST10m': 0, 'WNDDIR10m': 164, 'WNDDIRCARD10': 'S', 'ISSNOW': 0, 'HCDC': '0.00', 'MCDC': '0.00', 'LCDC': '0.00', 'HGT0C': 3800, 'KINDEX': 37, 'CAPE180_0': '0.000', 'CIN180_0': 0}, '6H00': {'ICON': 'https://prevision-meteo.ch/style/images/icon/nuit-claire.png', 'CONDITION': 'Nuit claire', 'CONDITION_KEY': 'nuit-claire', 'TMP2m': 13.3, 'DPT2m': -273.2, 'WNDCHILL2m': None, 'HUMIDEX': None, 'RH2m': 62, 'PRMSL': 1019.3, 'APCPsfc': 0, 'WNDSPD10m': 1, 'WNDGUST10m': 0, 'WNDDIR10m': 180, 'WNDDIRCARD10': 'S', 'ISSNOW': 0, 'HCDC': '1.90', 'MCDC': '0.00', 'LCDC': '0.00', 'HGT0C': 3800, 'KINDEX': 38, 'CAPE180_0': '0.000', 'CIN180_0': 0}, '7H00': {'ICON': 'https://prevision-meteo.ch/style/images/icon/nuit-claire.png', 'CONDITION': 'Nuit claire', 'CONDITION_KEY': 'nuit-claire', 'TMP2m': 13, 'DPT2m': -273.2, 'WNDCHILL2m': None, 'HUMIDEX': None, 'RH2m': 63, 'PRMSL': 1018.9, 'APCPsfc': 0, 'WNDSPD10m': 2, 'WNDGUST10m': 0, 'WNDDIR10m': 219, 'WNDDIRCARD10': 'SO', 'ISSNOW': 0, 'HCDC': '2.00', 'MCDC': '0.00', 'LCDC': '0.00', 'HGT0C': 3800, 'KINDEX': 37, 'CAPE180_0': '0.000', 'CIN180_0': 0}, '8H00': {'ICON': 'https://prevision-meteo.ch/style/images/icon/ensoleille.png', 'CONDITION': 'Ensoleillé', 'CONDITION_KEY': 'ensoleille', 'TMP2m': 13, 'DPT2m': -273.2, 'WNDCHILL2m': None, 'HUMIDEX': None, 'RH2m': 62, 'PRMSL': 1019.1, 'APCPsfc': 0, 'WNDSPD10m': 1, 'WNDGUST10m': 0, 'WNDDIR10m': 297, 'WNDDIRCARD10': 'NO', 'ISSNOW': 0, 'HCDC': '3.40', 'MCDC': '0.00', 'LCDC': '0.00', 'HGT0C': 3800, 'KINDEX': 35, 'CAPE180_0': '0.000', 'CIN180_0': 0}, '9H00': {'ICON': 'https://prevision-meteo.ch/style/images/icon/ensoleille.png', 'CONDITION': 'Ensoleillé', 'CONDITION_KEY': 'ensoleille', 'TMP2m': 15.2, 'DPT2m': -273.2, 'WNDCHILL2m': None, 'HUMIDEX': None, 'RH2m': 60, 'PRMSL': 1019, 'APCPsfc': 0, 'WNDSPD10m': 5, 'WNDGUST10m': 0, 'WNDDIR10m': 212, 'WNDDIRCARD10': 'SO', 'ISSNOW': 0, 'HCDC': '4.90', 'MCDC': '0.00', 'LCDC': '0.00', 'HGT0C': 3800, 'KINDEX': 35, 'CAPE180_0': '0.000', 'CIN180_0': 0}, '10H00': {'ICON': 'https://prevision-meteo.ch/style/images/icon/ensoleille.png', 'CONDITION': 'Ensoleillé', 'CONDITION_KEY': 'ensoleille', 'TMP2m': 16.6, 'DPT2m': -273.2, 'WNDCHILL2m': None, 'HUMIDEX': None, 'RH2m': 55, 'PRMSL': 1019.7, 'APCPsfc': 0, 'WNDSPD10m': 6, 'WNDGUST10m': 0, 'WNDDIR10m': 196, 'WNDDIRCARD10': 'S', 'ISSNOW': 0, 'HCDC': '0.40', 'MCDC': '0.00', 'LCDC': '0.00', 'HGT0C': 3800, 'KINDEX': 36, 'CAPE180_0': '0.000', 'CIN180_0': 0}, '11H00': {'ICON': 'https://prevision-meteo.ch/style/images/icon/ensoleille.png', 'CONDITION': 'Ensoleillé', 'CONDITION_KEY': 'ensoleille', 'TMP2m': 18.5, 'DPT2m': -273.2, 'WNDCHILL2m': None, 'HUMIDEX': None, 'RH2m': 50, 'PRMSL': 1019.2, 'APCPsfc': 0, 'WNDSPD10m': 6, 'WNDGUST10m': 0, 'WNDDIR10m': 169, 'WNDDIRCARD10': 'S', 'ISSNOW': 0, 'HCDC': '0.00', 'MCDC': '0.00', 'LCDC': '0.00', 'HGT0C': 3900, 'KINDEX': 37, 'CAPE180_0': '0.000', 'CIN180_0': 0}, '12H00': {'ICON': 'https://prevision-meteo.ch/style/images/icon/ensoleille.png', 'CONDITION': 'Ensoleillé', 'CONDITION_KEY': 'ensoleille', 'TMP2m': 21, 'DPT2m': -273.2, 'WNDCHILL2m': None, 'HUMIDEX': 21.4, 'RH2m': 43, 'PRMSL': 1018.8, 'APCPsfc': 0, 'WNDSPD10m': 4, 'WNDGUST10m': 0, 'WNDDIR10m': 169, 'WNDDIRCARD10': 'S', 'ISSNOW': 0, 'HCDC': '0.00', 'MCDC': '0.00', 'LCDC': '0.00', 'HGT0C': 3900, 'KINDEX': 36, 'CAPE180_0': '0.000', 'CIN180_0': 0}, '13H00': {'ICON': 'https://prevision-meteo.ch/style/images/icon/ensoleille.png', 'CONDITION': 'Ensoleillé', 'CONDITION_KEY': 'ensoleille', 'TMP2m': 23, 'DPT2m': -273.2, 'WNDCHILL2m': None, 'HUMIDEX': 23.2, 'RH2m': 37, 'PRMSL': 1018.1, 'APCPsfc': 0, 'WNDSPD10m': 4, 'WNDGUST10m': 0, 'WNDDIR10m': 214, 'WNDDIRCARD10': 'SO', 'ISSNOW': 0, 'HCDC': '0.00', 'MCDC': '0.00', 'LCDC': '0.00', 'HGT0C': 3900, 'KINDEX': 35, 'CAPE180_0': '0.000', 'CIN180_0': 0}, '14H00': {'ICON': 'https://prevision-meteo.ch/style/images/icon/ensoleille.png', 'CONDITION': 'Ensoleillé', 'CONDITION_KEY': 'ensoleille', 'TMP2m': 24.5, 'DPT2m': -273.2, 'WNDCHILL2m': None, 'HUMIDEX': 24.4, 'RH2m': 32, 'PRMSL': 1017.7, 'APCPsfc': 0, 'WNDSPD10m': 5, 'WNDGUST10m': 0, 'WNDDIR10m': 219, 'WNDDIRCARD10': 'SO', 'ISSNOW': 0, 'HCDC': '0.00', 'MCDC': '0.00', 'LCDC': '0.00', 'HGT0C': 3900, 'KINDEX': 35, 'CAPE180_0': '0.000', 'CIN180_0': 0}, '15H00': {'ICON': 'https://prevision-meteo.ch/style/images/icon/ensoleille.png', 'CONDITION': 'Ensoleillé', 'CONDITION_KEY': 'ensoleille', 'TMP2m': 25.8, 'DPT2m': -273.2, 'WNDCHILL2m': None, 'HUMIDEX': 25.6, 'RH2m': 29, 'PRMSL': 1017.1, 'APCPsfc': 0, 'WNDSPD10m': 6, 'WNDGUST10m': 0, 'WNDDIR10m': 239, 'WNDDIRCARD10': 'SO', 'ISSNOW': 0, 'HCDC': '0.00', 'MCDC': '0.00', 'LCDC': '0.00', 'HGT0C': 3900, 'KINDEX': 35, 'CAPE180_0': '0.000', 'CIN180_0': 0}, '16H00': {'ICON': 'https://prevision-meteo.ch/style/images/icon/ensoleille.png', 'CONDITION': 'Ensoleillé', 'CONDITION_KEY': 'ensoleille', 'TMP2m': 26.6, 'DPT2m': -273.2, 'WNDCHILL2m': None, 'HUMIDEX': 26.3, 'RH2m': 27, 'PRMSL': 1016.7, 'APCPsfc': 0, 'WNDSPD10m': 5, 'WNDGUST10m': 0, 'WNDDIR10m': 258, 'WNDDIRCARD10': 'O', 'ISSNOW': 0, 'HCDC': '0.00', 'MCDC': '0.00', 'LCDC': '0.00', 'HGT0C': 3900, 'KINDEX': 35, 'CAPE180_0': '0.000', 'CIN180_0': 0}, '17H00': {'ICON': 'https://prevision-meteo.ch/style/images/icon/ensoleille.png', 'CONDITION': 'Ensoleillé', 'CONDITION_KEY': 'ensoleille', 'TMP2m': 26.7, 'DPT2m': -273.2, 'WNDCHILL2m': None, 'HUMIDEX': 26.2, 'RH2m': 26, 'PRMSL': 1016.4, 'APCPsfc': 0, 'WNDSPD10m': 5, 'WNDGUST10m': 0, 'WNDDIR10m': 286, 'WNDDIRCARD10': 'O', 'ISSNOW': 0, 'HCDC': '0.00', 'MCDC': '0.00', 'LCDC': '0.00', 'HGT0C': 3900, 'KINDEX': 37, 'CAPE180_0': '0.000', 'CIN180_0': 0}, '18H00': {'ICON': 'https://prevision-meteo.ch/style/images/icon/ensoleille.png', 'CONDITION': 'Ensoleillé', 'CONDITION_KEY': 'ensoleille', 'TMP2m': 25.8, 'DPT2m': -273.2, 'WNDCHILL2m': None, 'HUMIDEX': 25.6, 'RH2m': 29, 'PRMSL': 1016.2, 'APCPsfc': 0, 'WNDSPD10m': 2, 'WNDGUST10m': 0, 'WNDDIR10m': 279, 'WNDDIRCARD10': 'O', 'ISSNOW': 0, 'HCDC': '0.00', 'MCDC': '0.00', 'LCDC': '0.00', 'HGT0C': 3900, 'KINDEX': 38, 'CAPE180_0': '0.000', 'CIN180_0': 0}, '19H00': {'ICON': 'https://prevision-meteo.ch/style/images/icon/nuit-claire.png', 'CONDITION': 'Nuit claire', 'CONDITION_KEY': 'nuit-claire', 'TMP2m': 24, 'DPT2m': -273.2, 'WNDCHILL2m': None, 'HUMIDEX': 24.1, 'RH2m': 34, 'PRMSL': 1016.2, 'APCPsfc': 0, 'WNDSPD10m': 5, 'WNDGUST10m': 0, 'WNDDIR10m': 172, 'WNDDIRCARD10': 'S', 'ISSNOW': 0, 'HCDC': '0.00', 'MCDC': '0.00', 'LCDC': '0.00', 'HGT0C': 4000, 'KINDEX': 39, 'CAPE180_0': '0.000', 'CIN180_0': 0}, '20H00': {'ICON': 'https://prevision-meteo.ch/style/images/icon/nuit-claire.png', 'CONDITION': 'Nuit claire', 'CONDITION_KEY': 'nuit-claire', 'TMP2m': 21.5, 'DPT2m': -273.2, 'WNDCHILL2m': None, 'HUMIDEX': 21.9, 'RH2m': 42, 'PRMSL': 1016.4, 'APCPsfc': 0, 'WNDSPD10m': 8, 'WNDGUST10m': 0, 'WNDDIR10m': 167, 'WNDDIRCARD10': 'S', 'ISSNOW': 0, 'HCDC': '0.00', 'MCDC': '0.00', 'LCDC': '0.00', 'HGT0C': 4000, 'KINDEX': 41, 'CAPE180_0': '0.000', 'CIN180_0': 0}, '21H00': {'ICON': 'https://prevision-meteo.ch/style/images/icon/nuit-claire.png', 'CONDITION': 'Nuit claire', 'CONDITION_KEY': 'nuit-claire', 'TMP2m': 19.8, 'DPT2m': -273.2, 'WNDCHILL2m': None, 'HUMIDEX': None, 'RH2m': 47, 'PRMSL': 1016.9, 'APCPsfc': 0, 'WNDSPD10m': 8, 'WNDGUST10m': 0, 'WNDDIR10m': 185, 'WNDDIRCARD10': 'S', 'ISSNOW': 0, 'HCDC': '0.00', 'MCDC': '0.00', 'LCDC': '0.00', 'HGT0C': 4000, 'KINDEX': 42, 'CAPE180_0': '0.000', 'CIN180_0': 0}, '22H00': {'ICON': 'https://prevision-meteo.ch/style/images/icon/nuit-claire.png', 'CONDITION': 'Nuit claire', 'CONDITION_KEY': 'nuit-claire', 'TMP2m': 18.6, 'DPT2m': -273.2, 'WNDCHILL2m': None, 'HUMIDEX': None, 'RH2m': 50, 'PRMSL': 1017.1, 'APCPsfc': 0, 'WNDSPD10m': 7, 'WNDGUST10m': 0, 'WNDDIR10m': 202, 'WNDDIRCARD10': 'S', 'ISSNOW': 0, 'HCDC': '0.00', 'MCDC': '0.00', 'LCDC': '0.00', 'HGT0C': 4000, 'KINDEX': 41, 'CAPE180_0': '0.000', 'CIN180_0': 0}, '23H00': {'ICON': 'https://prevision-meteo.ch/style/images/icon/nuit-claire.png', 'CONDITION': 'Nuit claire', 'CONDITION_KEY': 'nuit-claire', 'TMP2m': 18.1, 'DPT2m': -273.2, 'WNDCHILL2m': None, 'HUMIDEX': None, 'RH2m': 51, 'PRMSL': 1016.9, 'APCPsfc': 0, 'WNDSPD10m': 6, 'WNDGUST10m': 0, 'WNDDIR10m': 196, 'WNDDIRCARD10': 'S', 'ISSNOW': 0, 'HCDC': '0.00', 'MCDC': '0.00', 'LCDC': '0.00', 'HGT0C': 4000, 'KINDEX': 41, 'CAPE180_0': '0.000', 'CIN180_0': 0}}}\n"
     ]
    }
   ],
   "source": [
    "day = jsondict['fcst_day_0']\n",
    "print(type(day))\n",
    "print(day)"
   ]
  },
  {
   "cell_type": "markdown",
   "metadata": {
    "slideshow": {
     "slide_type": "subslide"
    }
   },
   "source": [
    "Là aussi, on cherche les clés :"
   ]
  },
  {
   "cell_type": "code",
   "execution_count": 7,
   "metadata": {},
   "outputs": [
    {
     "name": "stdout",
     "output_type": "stream",
     "text": [
      "'date'\n",
      "'day_short'\n",
      "'day_long'\n",
      "'tmin'\n",
      "'tmax'\n",
      "'condition'\n",
      "'condition_key'\n",
      "'icon'\n",
      "'icon_big'\n",
      "'hourly_data'\n"
     ]
    }
   ],
   "source": [
    "for k in day:\n",
    "    print(repr(k))"
   ]
  },
  {
   "cell_type": "markdown",
   "metadata": {},
   "source": [
    "Vérifions qu'il s'agit d'aujourd'hui :"
   ]
  },
  {
   "cell_type": "code",
   "execution_count": 8,
   "metadata": {},
   "outputs": [
    {
     "name": "stdout",
     "output_type": "stream",
     "text": [
      "Mardi 10.10.2023\n"
     ]
    }
   ],
   "source": [
    "print(day['day_long'], day['date'])"
   ]
  },
  {
   "cell_type": "markdown",
   "metadata": {
    "slideshow": {
     "slide_type": "subslide"
    }
   },
   "source": [
    "C'est bon !\n",
    "Maintenant, une entrée particulière nous intéresse :"
   ]
  },
  {
   "cell_type": "code",
   "execution_count": 9,
   "metadata": {},
   "outputs": [
    {
     "name": "stdout",
     "output_type": "stream",
     "text": [
      "'0H00'\n",
      "'1H00'\n",
      "'2H00'\n",
      "'3H00'\n",
      "'4H00'\n",
      "'5H00'\n",
      "'6H00'\n",
      "'7H00'\n",
      "'8H00'\n",
      "'9H00'\n",
      "'10H00'\n",
      "'11H00'\n",
      "'12H00'\n",
      "'13H00'\n",
      "'14H00'\n",
      "'15H00'\n",
      "'16H00'\n",
      "'17H00'\n",
      "'18H00'\n",
      "'19H00'\n",
      "'20H00'\n",
      "'21H00'\n",
      "'22H00'\n",
      "'23H00'\n"
     ]
    }
   ],
   "source": [
    "day_hd = day['hourly_data']\n",
    "for k in day_hd:\n",
    "    print(repr(k))"
   ]
  },
  {
   "cell_type": "markdown",
   "metadata": {
    "slideshow": {
     "slide_type": "subslide"
    }
   },
   "source": [
    "Regardons ce que contient une `hourly_data` :"
   ]
  },
  {
   "cell_type": "code",
   "execution_count": 10,
   "metadata": {},
   "outputs": [
    {
     "name": "stdout",
     "output_type": "stream",
     "text": [
      "'ICON'\n",
      "'CONDITION'\n",
      "'CONDITION_KEY'\n",
      "'TMP2m'\n",
      "'DPT2m'\n",
      "'WNDCHILL2m'\n",
      "'HUMIDEX'\n",
      "'RH2m'\n",
      "'PRMSL'\n",
      "'APCPsfc'\n",
      "'WNDSPD10m'\n",
      "'WNDGUST10m'\n",
      "'WNDDIR10m'\n",
      "'WNDDIRCARD10'\n",
      "'ISSNOW'\n",
      "'HCDC'\n",
      "'MCDC'\n",
      "'LCDC'\n",
      "'HGT0C'\n",
      "'KINDEX'\n",
      "'CAPE180_0'\n",
      "'CIN180_0'\n"
     ]
    }
   ],
   "source": [
    "for k in day_hd['7H00']:\n",
    "    print(repr(k))"
   ]
  },
  {
   "cell_type": "markdown",
   "metadata": {
    "slideshow": {
     "slide_type": "subslide"
    }
   },
   "source": [
    "La clé qui nous intéresse est la chaîne `'TMP2m'` qui correspond à la température à 2m du sol."
   ]
  },
  {
   "cell_type": "code",
   "execution_count": 11,
   "metadata": {},
   "outputs": [
    {
     "name": "stdout",
     "output_type": "stream",
     "text": [
      "Aujourd'hui à 12H00, il fera : 21 deg. C.\n"
     ]
    }
   ],
   "source": [
    "hour = '12H00'\n",
    "print(f\"Aujourd'hui à {hour}, il fera : {day_hd[hour]['TMP2m']} deg. C.\")"
   ]
  },
  {
   "cell_type": "markdown",
   "metadata": {
    "slideshow": {
     "slide_type": "-"
    }
   },
   "source": [
    "Sauver ces lignes de commandes dans le fichier `today_stras.py` en allant de l'exécution 1 au compteur d'exécution courant indiqué dans la cellule de code ci-dessus `In [XX]`. Dans le cas présent :"
   ]
  },
  {
   "cell_type": "code",
   "execution_count": 12,
   "metadata": {},
   "outputs": [
    {
     "name": "stdout",
     "output_type": "stream",
     "text": [
      "File `today_stras.py` exists. Overwrite (y/[N])?  y\n",
      "The following commands were written to file `today_stras.py`:\n",
      "get_ipython().run_line_magic('config', \"InlineBackend.figure_format = 'retina'\")\n",
      "get_ipython().run_line_magic('matplotlib', 'inline')\n",
      "from urllib.request import urlopen\n",
      "\n",
      "jsonfile_url = \"https://www.prevision-meteo.ch/services/json/Strasbourg\"\n",
      "try:\n",
      "    f = urlopen(jsonfile_url, timeout=10)  # open url\n",
      "except Exception:\n",
      "    print(\"Le téléchargement a échoué : on lit une version locale.\")\n",
      "    f = open(\"exos/Strasbourg.json\")\n",
      "import json\n",
      "jsondict = json.loads(f.read())  # Read JSON file\n",
      "print(type(jsondict))\n",
      "print(jsondict)\n",
      "for k in jsondict:\n",
      "    print(repr(k))\n",
      "day = jsondict['fcst_day_0']\n",
      "print(type(day))\n",
      "print(day)\n",
      "for k in day:\n",
      "    print(repr(k))\n",
      "for k in day:\n",
      "    print(repr(k))\n",
      "print(day['day_long'], day['date'])\n",
      "day_hd = day['hourly_data']\n",
      "for k in day_hd:\n",
      "    print(repr(k))\n",
      "for k in day_hd['7H00']:\n",
      "    print(repr(k))\n",
      "hour = '12H00'\n",
      "print(f\"Aujourd'hui à {hour}, il fera : {day_hd[hour]['TMP2m']} deg. C.\")\n",
      "# Décommenter la ligne ci-dessous\n",
      "get_ipython().run_line_magic('save', 'today_stras.py 1-12')\n"
     ]
    }
   ],
   "source": [
    "# Décommenter la ligne ci-dessous\n",
    "%save today_stras.py 1-12"
   ]
  },
  {
   "cell_type": "markdown",
   "metadata": {
    "slideshow": {
     "slide_type": "slide"
    }
   },
   "source": [
    "### Tracé de la température\n",
    "\n",
    "1. Ouvrir le fichier `today_stras.py` dans Spyder et nettoyer les `print` inutiles.\n",
    "2. Exécutez le code dans Spyder et utilisez la fenêtre \"Variable explorer\" en haut à droite pour parcourir les données de votre dictionnaire.\n",
    "3. Extraire la liste des couples `(hour, temperature)` où :\n",
    "    - `hour` est un entier\n",
    "    - `temperature` est un flottant\n",
    "4. ordonner la liste selon les heures croissantes\n",
    "5. convertir la liste en un *numpy array* `t` avec la méthode `numpy.array()`\n",
    "6. Transposer `t` pour obtenir le tableau `[[array of hours], [array of temperatures]]`\n",
    "7. réaliser un tracé matplotlib en suivant [ce tutoriel](http://matplotlib.org/users/pyplot_tutorial.html) ou en intégrant les lignes de code suivantes : "
   ]
  },
  {
   "cell_type": "code",
   "execution_count": 13,
   "metadata": {
    "slideshow": {
     "slide_type": "subslide"
    }
   },
   "outputs": [],
   "source": [
    "import matplotlib.pyplot as plt  # To be placed at the top of python file\n",
    "\n",
    "# [Your previous code...]\n",
    "\n",
    "# Plot T = T(hour)\n",
    "# Décommentez les lignes ci-dessous\n",
    "#\n",
    "# fig = plt.figure()  # initialise figure\n",
    "# title = f\"{day_of_the_week} {date_of_today}\"\n",
    "# fig.suptitle(title, fontsize=14, fontweight='bold')\n",
    "# \n",
    "# ax = fig.add_subplot(111)  # initialise a plot area\n",
    "# fig.subplots_adjust(top=0.85)\n",
    "# ax.set_title('Day temperature')\n",
    "# ax.set_xlabel('Time [h]')\n",
    "# ax.set_ylabel('Temperature [deg. C]')\n",
    "# \n",
    "# ax.plot(t[0], t[1])  # plot t[1] (tempe) as a function of t[0] (hour)"
   ]
  },
  {
   "cell_type": "markdown",
   "metadata": {
    "slideshow": {
     "slide_type": "-"
    },
    "solution2": "hidden",
    "solution2_first": true
   },
   "source": [
    "> **Option :** intégrer l'icone de la météo du jour en utilisant le module `matplotlib.image`."
   ]
  },
  {
   "cell_type": "markdown",
   "metadata": {
    "solution2": "hidden"
   },
   "source": [
    "Pas si vite ! Êtes-vous sûr ? Vraiment ?  \n",
    "Alors rendez-vous dans [exos/meteo_json.py](exos/meteo_json.py)"
   ]
  },
  {
   "cell_type": "markdown",
   "metadata": {
    "slideshow": {
     "slide_type": "slide"
    },
    "solution2": "hidden",
    "solution2_first": true
   },
   "source": [
    "## Exercice sur les fonctions\n",
    "\n",
    "Modifiez le programme météo en créant une fonction qui admet un des jours disponibles comme argument (aujourd'hui, demain, après-demain...)"
   ]
  },
  {
   "cell_type": "markdown",
   "metadata": {
    "slideshow": {
     "slide_type": "-"
    },
    "solution2": "hidden"
   },
   "source": [
    "Pas si vite ! Êtes-vous sûr ? Vraiment ?  \n",
    "Alors allez voir une proposition de solution dans [exos/meteo_json_func.py](exos/meteo_json_func.py)"
   ]
  },
  {
   "cell_type": "markdown",
   "metadata": {
    "slideshow": {
     "slide_type": "slide"
    }
   },
   "source": [
    "## Exécution avec les widgets ipython\n",
    "\n",
    "[Jupyter ipywidgets](https://ipywidgets.readthedocs.io/en/latest/index.html) permet de créer très facilement des menus interactifs pour faciliter l'exécution de code dans les notebooks."
   ]
  },
  {
   "cell_type": "markdown",
   "metadata": {
    "slideshow": {
     "slide_type": "subslide"
    }
   },
   "source": [
    "Un exemple avec notre courbe de température :"
   ]
  },
  {
   "cell_type": "code",
   "execution_count": 14,
   "metadata": {},
   "outputs": [
    {
     "data": {
      "application/vnd.jupyter.widget-view+json": {
       "model_id": "4969b6751cdf40caa565099def889493",
       "version_major": 2,
       "version_minor": 0
      },
      "text/plain": [
       "interactive(children=(Dropdown(description='city_name', options=('Marseille', 'Paris', 'Toulouse', 'Strasbourg…"
      ]
     },
     "metadata": {},
     "output_type": "display_data"
    }
   ],
   "source": [
    "from exos import meteo_json_func as mjf\n",
    "from ipywidgets import interact\n",
    "\n",
    "def plot_city(city_name, iday):\n",
    "    city_json = mjf.get_json_from_name(city_name)\n",
    "    mjf.plot_day_tempe(city_json, f'fcst_day_{iday}')\n",
    "    \n",
    "interact(plot_city,\n",
    "         city_name=[\"Marseille\", \"Paris\", \"Toulouse\", \"Strasbourg\"],\n",
    "         iday=list(range(5)));"
   ]
  },
  {
   "cell_type": "markdown",
   "metadata": {
    "slideshow": {
     "slide_type": "slide"
    }
   },
   "source": [
    "## Exécution en script\n",
    "\n",
    "Pour pouvoir exécuter ce fichier en mode script\n",
    "\n",
    "- Ajouter en première ligne du fichier: `#! python3`\n",
    "- Rendez le fichier exécutable: `chmod a+x today_stras.py`"
   ]
  },
  {
   "cell_type": "code",
   "execution_count": null,
   "metadata": {},
   "outputs": [],
   "source": [
    "# pour permettre le tracé de la figure dans le notebook :\n",
    "%matplotlib inline\n",
    "\n",
    "# équivalent à exécuter la commande :\n",
    "#    python3 exos/meteo_json.py\n",
    "# depuis le terminal système, décommentez et exécutez :\n",
    "#%run exos/meteo_json.py"
   ]
  },
  {
   "cell_type": "markdown",
   "metadata": {
    "slideshow": {
     "slide_type": "subslide"
    }
   },
   "source": [
    "### Utilisation de `if __name__ == '__main__':`\n",
    "\n",
    "Dans un fichier python `mon_module.py`, on souhaite généralement différencier :\n",
    "- le code exécuté lors d'un import du fichier comme un module dans un autre programme avec `import mon_module`\n",
    "- le code éxécuté lorsque le fichier est appelé directement comme un script depuis le système : `python mon_module.py`\n",
    "\n",
    "\n",
    "Pour ce faire, on utilise la variable `__name__` de la façon suivante :"
   ]
  },
  {
   "cell_type": "code",
   "execution_count": null,
   "metadata": {
    "slideshow": {
     "slide_type": "-"
    }
   },
   "outputs": [],
   "source": [
    "#! python3\n",
    "\n",
    "def une_fonction_utile():\n",
    "    return 'je suis utile'\n",
    "\n",
    "def main():\n",
    "    print('je suis dans {}'.format(__name__))\n",
    "\n",
    "if __name__ == '__main__':\n",
    "    main()\n",
    "else:\n",
    "    # En mode module importé, on ne fait rien de plus\n",
    "    pass"
   ]
  },
  {
   "cell_type": "markdown",
   "metadata": {
    "slideshow": {
     "slide_type": "slide"
    }
   },
   "source": [
    "## Gestion des arguments\n",
    "\n",
    "Pour pouvoir passer des arguments en ligne de commande, on peut utiliser le module [`argparse`](https://docs.python.org/3/library/argparse.html).\n",
    "\n",
    "Un tutoriel est disponible [ici](https://docs.python.org/3/howto/argparse.html#argparse-tutorial)."
   ]
  },
  {
   "cell_type": "code",
   "execution_count": null,
   "metadata": {},
   "outputs": [],
   "source": [
    "import argparse\n",
    "\n",
    "parser = argparse.ArgumentParser(description='Process some integers.')\n",
    "parser.add_argument('integers', metavar='N', type=int, nargs='+',\n",
    "                    help='an integer for the accumulator')\n",
    "parser.add_argument('--sum', dest='accumulate', action='store_const',\n",
    "                    const=sum, default=max,\n",
    "                    help='sum the integers (default: find the max)')\n",
    "print(type(parser))"
   ]
  },
  {
   "cell_type": "code",
   "execution_count": null,
   "metadata": {},
   "outputs": [],
   "source": [
    "# Sans \"--sum\"\n",
    "args = parser.parse_args(['2', '5'])\n",
    "print(args.accumulate(args.integers))"
   ]
  },
  {
   "cell_type": "code",
   "execution_count": null,
   "metadata": {
    "slideshow": {
     "slide_type": "subslide"
    }
   },
   "outputs": [],
   "source": [
    "# Avec \"--sum\"\n",
    "args = parser.parse_args(['--sum', '2', '5'])\n",
    "print(args.accumulate(args.integers))\n"
   ]
  },
  {
   "cell_type": "code",
   "execution_count": null,
   "metadata": {},
   "outputs": [],
   "source": [
    "# Certains arguments existent déjà\n",
    "try:\n",
    "    parser.parse_args(['--help'])\n",
    "except SystemExit:\n",
    "    # Pour éviter une erreur dans jupyter-notebook\n",
    "    pass"
   ]
  },
  {
   "cell_type": "markdown",
   "metadata": {
    "slideshow": {
     "slide_type": "subslide"
    }
   },
   "source": [
    "## Exercice\n",
    "\n",
    "Modifiez le programme météo pour qu'il prenne le(s) nom(s) de ville en argument(s) en utilisant le module `argparse`."
   ]
  },
  {
   "cell_type": "code",
   "execution_count": 15,
   "metadata": {
    "solution2": "hidden",
    "solution2_first": true
   },
   "outputs": [
    {
     "data": {
      "text/plain": [
       "3"
      ]
     },
     "execution_count": 15,
     "metadata": {},
     "output_type": "execute_result"
    }
   ],
   "source": [
    "# Décommentez la ligne ci-dessous\n",
    "eval(\"2+1\")\n",
    "#%run exos/meteo_json_func_args.py Marseille -d 3"
   ]
  },
  {
   "cell_type": "markdown",
   "metadata": {
    "slideshow": {
     "slide_type": "subslide"
    },
    "solution2": "hidden"
   },
   "source": [
    "Pas si vite ! Êtes-vous sûr ? Vraiment ?  \n",
    "Alors allez voir une proposition de solution dans [exos/meteo_json_func_args.py](exos/meteo_json_func_args.py)"
   ]
  },
  {
   "cell_type": "markdown",
   "metadata": {
    "slideshow": {
     "slide_type": "subslide"
    }
   },
   "source": [
    "## Suite de l'exercice\n",
    "\n",
    "- Laissez libre cours à vos idées et envies, par exemple :\n",
    "    - en cherchant à tracer l'évolution horaire de la température dans les 5 prochains jours\n",
    "    - etc.\n",
    "\n",
    "- Dans Spyder :\n",
    "    - testez le système de debugging\n",
    "    - testez le profiler\n",
    "\n",
    "> À vous de faire la pluie et le beau temps !"
   ]
  }
 ],
 "metadata": {
  "celltoolbar": "Format de la Cellule Texte Brut",
  "interpreter": {
   "hash": "dacc0fd41a2a721f69902c3a62bfa7b1693dbb68e6c7aa4a2dbbf0882ba15570"
  },
  "kernelspec": {
   "display_name": "Python 3 (ipykernel)",
   "language": "python",
   "name": "python3"
  },
  "language_info": {
   "codemirror_mode": {
    "name": "ipython",
    "version": 3
   },
   "file_extension": ".py",
   "mimetype": "text/x-python",
   "name": "python",
   "nbconvert_exporter": "python",
   "pygments_lexer": "ipython3",
   "version": "3.11.4"
  },
  "toc": {
   "base_numbering": 1,
   "nav_menu": {},
   "number_sections": true,
   "sideBar": true,
   "skip_h1_title": true,
   "title_cell": "Table of Contents",
   "title_sidebar": "Contents",
   "toc_cell": false,
   "toc_position": {
    "height": "calc(100% - 180px)",
    "left": "10px",
    "top": "150px",
    "width": "413.993px"
   },
   "toc_section_display": true,
   "toc_window_display": false
  }
 },
 "nbformat": 4,
 "nbformat_minor": 2
}
